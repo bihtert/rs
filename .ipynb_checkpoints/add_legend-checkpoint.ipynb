{
 "cells": [
  {
   "cell_type": "code",
   "execution_count": 1,
   "metadata": {},
   "outputs": [
    {
     "name": "stdout",
     "output_type": "stream",
     "text": [
      "Requirement already satisfied: geemap in c:\\users\\bihte\\anaconda3\\lib\\site-packages (0.8.7)\n",
      "Requirement already satisfied: ipyevents in c:\\users\\bihte\\anaconda3\\lib\\site-packages (from geemap) (0.8.1)\n",
      "Requirement already satisfied: geeadd>=0.5.1 in c:\\users\\bihte\\anaconda3\\lib\\site-packages (from geemap) (0.5.3)\n",
      "Requirement already satisfied: colour in c:\\users\\bihte\\anaconda3\\lib\\site-packages (from geemap) (0.1.5)\n",
      "Requirement already satisfied: ipyleaflet>=0.13.3 in c:\\users\\bihte\\anaconda3\\lib\\site-packages (from geemap) (0.13.6)\n",
      "Requirement already satisfied: matplotlib in c:\\users\\bihte\\anaconda3\\lib\\site-packages (from geemap) (3.3.2)\n",
      "Requirement already satisfied: ipyfilechooser in c:\\users\\bihte\\anaconda3\\lib\\site-packages (from geemap) (0.4.1)\n",
      "Requirement already satisfied: bqplot in c:\\users\\bihte\\anaconda3\\lib\\site-packages (from geemap) (0.12.20)\n",
      "Requirement already satisfied: click in c:\\users\\bihte\\anaconda3\\lib\\site-packages (from geemap) (7.1.2)\n",
      "Requirement already satisfied: folium>=0.11.0 in c:\\users\\bihte\\anaconda3\\lib\\site-packages (from geemap) (0.12.0)\n",
      "Requirement already satisfied: ipynb-py-convert in c:\\users\\bihte\\anaconda3\\lib\\site-packages (from geemap) (0.4.6)\n",
      "Requirement already satisfied: pandas in c:\\users\\bihte\\anaconda3\\lib\\site-packages (from geemap) (1.1.3)\n",
      "Requirement already satisfied: mss in c:\\users\\bihte\\anaconda3\\lib\\site-packages (from geemap) (6.1.0)\n",
      "Requirement already satisfied: geocoder in c:\\users\\bihte\\anaconda3\\lib\\site-packages (from geemap) (1.38.1)\n",
      "Requirement already satisfied: voila in c:\\users\\bihte\\anaconda3\\lib\\site-packages (from geemap) (0.2.6)\n",
      "Requirement already satisfied: ffmpeg-python in c:\\users\\bihte\\anaconda3\\lib\\site-packages (from geemap) (0.2.0)\n",
      "Requirement already satisfied: ipytree in c:\\users\\bihte\\anaconda3\\lib\\site-packages (from geemap) (0.1.8)\n",
      "Requirement already satisfied: earthengine-api>=0.1.230 in c:\\users\\bihte\\anaconda3\\lib\\site-packages (from geemap) (0.1.247)\n",
      "Requirement already satisfied: numpy in c:\\users\\bihte\\anaconda3\\lib\\site-packages (from geemap) (1.19.2)\n",
      "Requirement already satisfied: whitebox in c:\\users\\bihte\\anaconda3\\lib\\site-packages (from geemap) (1.4.0)\n",
      "Requirement already satisfied: pillow in c:\\users\\bihte\\anaconda3\\lib\\site-packages (from geemap) (8.0.1)\n",
      "Requirement already satisfied: pyshp in c:\\users\\bihte\\anaconda3\\lib\\site-packages (from geemap) (2.1.2)\n",
      "Requirement already satisfied: google-cloud-storage in c:\\users\\bihte\\anaconda3\\lib\\site-packages (from earthengine-api>=0.1.230->geemap) (1.19.0)\n",
      "Requirement already satisfied: google-api-python-client>=1.12.1 in c:\\users\\bihte\\anaconda3\\lib\\site-packages (from earthengine-api>=0.1.230->geemap) (1.12.8)\n",
      "Requirement already satisfied: google-auth-httplib2>=0.0.3 in c:\\users\\bihte\\anaconda3\\lib\\site-packages (from earthengine-api>=0.1.230->geemap) (0.0.4)\n",
      "Requirement already satisfied: httplib2shim in c:\\users\\bihte\\anaconda3\\lib\\site-packages (from earthengine-api>=0.1.230->geemap) (0.0.3)\n",
      "Requirement already satisfied: future in c:\\users\\bihte\\anaconda3\\lib\\site-packages (from earthengine-api>=0.1.230->geemap) (0.18.2)\n",
      "Requirement already satisfied: six in c:\\users\\bihte\\anaconda3\\lib\\site-packages (from earthengine-api>=0.1.230->geemap) (1.15.0)\n",
      "Requirement already satisfied: httplib2<1dev,>=0.9.2 in c:\\users\\bihte\\anaconda3\\lib\\site-packages (from earthengine-api>=0.1.230->geemap) (0.18.1)\n",
      "Requirement already satisfied: google-auth>=1.4.1 in c:\\users\\bihte\\anaconda3\\lib\\site-packages (from earthengine-api>=0.1.230->geemap) (1.24.0)\n",
      "Requirement already satisfied: branca>=0.3.0 in c:\\users\\bihte\\anaconda3\\lib\\site-packages (from folium>=0.11.0->geemap) (0.4.2)\n",
      "Requirement already satisfied: requests in c:\\users\\bihte\\anaconda3\\lib\\site-packages (from folium>=0.11.0->geemap) (2.24.0)\n",
      "Requirement already satisfied: jinja2>=2.9 in c:\\users\\bihte\\anaconda3\\lib\\site-packages (from folium>=0.11.0->geemap) (2.11.2)\n",
      "Requirement already satisfied: logzero>=1.5.0 in c:\\users\\bihte\\anaconda3\\lib\\site-packages (from geeadd>=0.5.1->geemap) (1.6.3)\n",
      "Requirement already satisfied: beautifulsoup4>=4.9.0 in c:\\users\\bihte\\anaconda3\\lib\\site-packages (from geeadd>=0.5.1->geemap) (4.9.3)\n",
      "Requirement already satisfied: soupsieve>1.2 in c:\\users\\bihte\\anaconda3\\lib\\site-packages (from beautifulsoup4>=4.9.0->geeadd>=0.5.1->geemap) (2.0.1)\n",
      "Requirement already satisfied: uritemplate<4dev,>=3.0.0 in c:\\users\\bihte\\anaconda3\\lib\\site-packages (from google-api-python-client>=1.12.1->earthengine-api>=0.1.230->geemap) (3.0.1)\n",
      "Requirement already satisfied: google-api-core<2dev,>=1.21.0 in c:\\users\\bihte\\anaconda3\\lib\\site-packages (from google-api-python-client>=1.12.1->earthengine-api>=0.1.230->geemap) (1.22.2)\n",
      "Requirement already satisfied: protobuf>=3.12.0 in c:\\users\\bihte\\anaconda3\\lib\\site-packages (from google-api-core<2dev,>=1.21.0->google-api-python-client>=1.12.1->earthengine-api>=0.1.230->geemap) (3.14.0)\n",
      "Requirement already satisfied: setuptools>=34.0.0 in c:\\users\\bihte\\anaconda3\\lib\\site-packages (from google-api-core<2dev,>=1.21.0->google-api-python-client>=1.12.1->earthengine-api>=0.1.230->geemap) (50.3.1.post20201107)\n",
      "Requirement already satisfied: googleapis-common-protos<2.0dev,>=1.6.0 in c:\\users\\bihte\\anaconda3\\lib\\site-packages (from google-api-core<2dev,>=1.21.0->google-api-python-client>=1.12.1->earthengine-api>=0.1.230->geemap) (1.52.0)\n",
      "Requirement already satisfied: pytz in c:\\users\\bihte\\anaconda3\\lib\\site-packages (from google-api-core<2dev,>=1.21.0->google-api-python-client>=1.12.1->earthengine-api>=0.1.230->geemap) (2020.1)\n",
      "Requirement already satisfied: cachetools<5.0,>=2.0.0 in c:\\users\\bihte\\anaconda3\\lib\\site-packages (from google-auth>=1.4.1->earthengine-api>=0.1.230->geemap) (4.1.1)\n",
      "Requirement already satisfied: rsa<5,>=3.1.4 in c:\\users\\bihte\\anaconda3\\lib\\site-packages (from google-auth>=1.4.1->earthengine-api>=0.1.230->geemap) (4.7)\n",
      "Requirement already satisfied: pyasn1-modules>=0.2.1 in c:\\users\\bihte\\anaconda3\\lib\\site-packages (from google-auth>=1.4.1->earthengine-api>=0.1.230->geemap) (0.2.7)\n",
      "Requirement already satisfied: traittypes<3,>=0.2.1 in c:\\users\\bihte\\anaconda3\\lib\\site-packages (from ipyleaflet>=0.13.3->geemap) (0.2.1)\n",
      "Requirement already satisfied: ipywidgets<8,>=7.6.0 in c:\\users\\bihte\\anaconda3\\lib\\site-packages (from ipyleaflet>=0.13.3->geemap) (7.6.3)\n",
      "Requirement already satisfied: shapely in c:\\users\\bihte\\anaconda3\\lib\\site-packages (from ipyleaflet>=0.13.3->geemap) (1.7.1)\n",
      "Requirement already satisfied: ipython>=4.0.0 in c:\\users\\bihte\\anaconda3\\lib\\site-packages (from ipywidgets<8,>=7.6.0->ipyleaflet>=0.13.3->geemap) (7.19.0)\n",
      "Requirement already satisfied: widgetsnbextension~=3.5.0 in c:\\users\\bihte\\anaconda3\\lib\\site-packages (from ipywidgets<8,>=7.6.0->ipyleaflet>=0.13.3->geemap) (3.5.1)\n",
      "Requirement already satisfied: jupyterlab-widgets>=1.0.0 in c:\\users\\bihte\\anaconda3\\lib\\site-packages (from ipywidgets<8,>=7.6.0->ipyleaflet>=0.13.3->geemap) (1.0.0)\n",
      "Requirement already satisfied: ipykernel>=4.5.1 in c:\\users\\bihte\\anaconda3\\lib\\site-packages (from ipywidgets<8,>=7.6.0->ipyleaflet>=0.13.3->geemap) (5.3.4)\n",
      "Requirement already satisfied: nbformat>=4.2.0 in c:\\users\\bihte\\anaconda3\\lib\\site-packages (from ipywidgets<8,>=7.6.0->ipyleaflet>=0.13.3->geemap) (5.0.8)\n",
      "Requirement already satisfied: traitlets>=4.3.1 in c:\\users\\bihte\\anaconda3\\lib\\site-packages (from ipywidgets<8,>=7.6.0->ipyleaflet>=0.13.3->geemap) (5.0.5)\n",
      "Requirement already satisfied: jupyter-client in c:\\users\\bihte\\anaconda3\\lib\\site-packages (from ipykernel>=4.5.1->ipywidgets<8,>=7.6.0->ipyleaflet>=0.13.3->geemap) (6.1.7)\n",
      "Requirement already satisfied: tornado>=4.2 in c:\\users\\bihte\\anaconda3\\lib\\site-packages (from ipykernel>=4.5.1->ipywidgets<8,>=7.6.0->ipyleaflet>=0.13.3->geemap) (6.1)\n",
      "Requirement already satisfied: colorama in c:\\users\\bihte\\anaconda3\\lib\\site-packages (from ipython>=4.0.0->ipywidgets<8,>=7.6.0->ipyleaflet>=0.13.3->geemap) (0.4.4)\n",
      "Requirement already satisfied: pickleshare in c:\\users\\bihte\\anaconda3\\lib\\site-packages (from ipython>=4.0.0->ipywidgets<8,>=7.6.0->ipyleaflet>=0.13.3->geemap) (0.7.5)\n",
      "Requirement already satisfied: prompt-toolkit!=3.0.0,!=3.0.1,<3.1.0,>=2.0.0 in c:\\users\\bihte\\anaconda3\\lib\\site-packages (from ipython>=4.0.0->ipywidgets<8,>=7.6.0->ipyleaflet>=0.13.3->geemap) (3.0.8)\n",
      "Requirement already satisfied: jedi>=0.10 in c:\\users\\bihte\\anaconda3\\lib\\site-packages (from ipython>=4.0.0->ipywidgets<8,>=7.6.0->ipyleaflet>=0.13.3->geemap) (0.17.1)\n",
      "Requirement already satisfied: decorator in c:\\users\\bihte\\anaconda3\\lib\\site-packages (from ipython>=4.0.0->ipywidgets<8,>=7.6.0->ipyleaflet>=0.13.3->geemap) (4.4.2)\n",
      "Requirement already satisfied: pygments in c:\\users\\bihte\\anaconda3\\lib\\site-packages (from ipython>=4.0.0->ipywidgets<8,>=7.6.0->ipyleaflet>=0.13.3->geemap) (2.7.2)\n",
      "Requirement already satisfied: backcall in c:\\users\\bihte\\anaconda3\\lib\\site-packages (from ipython>=4.0.0->ipywidgets<8,>=7.6.0->ipyleaflet>=0.13.3->geemap) (0.2.0)\n",
      "Requirement already satisfied: parso<0.8.0,>=0.7.0 in c:\\users\\bihte\\anaconda3\\lib\\site-packages (from jedi>=0.10->ipython>=4.0.0->ipywidgets<8,>=7.6.0->ipyleaflet>=0.13.3->geemap) (0.7.0)\n",
      "Requirement already satisfied: MarkupSafe>=0.23 in c:\\users\\bihte\\anaconda3\\lib\\site-packages (from jinja2>=2.9->folium>=0.11.0->geemap) (1.1.1)\n",
      "Requirement already satisfied: jupyter-core in c:\\users\\bihte\\anaconda3\\lib\\site-packages (from nbformat>=4.2.0->ipywidgets<8,>=7.6.0->ipyleaflet>=0.13.3->geemap) (4.6.3)\n",
      "Requirement already satisfied: ipython-genutils in c:\\users\\bihte\\anaconda3\\lib\\site-packages (from nbformat>=4.2.0->ipywidgets<8,>=7.6.0->ipyleaflet>=0.13.3->geemap) (0.2.0)\n",
      "Requirement already satisfied: jsonschema!=2.5.0,>=2.4 in c:\\users\\bihte\\anaconda3\\lib\\site-packages (from nbformat>=4.2.0->ipywidgets<8,>=7.6.0->ipyleaflet>=0.13.3->geemap) (3.2.0)\n",
      "Requirement already satisfied: pyrsistent>=0.14.0 in c:\\users\\bihte\\anaconda3\\lib\\site-packages (from jsonschema!=2.5.0,>=2.4->nbformat>=4.2.0->ipywidgets<8,>=7.6.0->ipyleaflet>=0.13.3->geemap) (0.17.3)\n",
      "Requirement already satisfied: attrs>=17.4.0 in c:\\users\\bihte\\anaconda3\\lib\\site-packages (from jsonschema!=2.5.0,>=2.4->nbformat>=4.2.0->ipywidgets<8,>=7.6.0->ipyleaflet>=0.13.3->geemap) (20.3.0)\n",
      "Requirement already satisfied: wcwidth in c:\\users\\bihte\\anaconda3\\lib\\site-packages (from prompt-toolkit!=3.0.0,!=3.0.1,<3.1.0,>=2.0.0->ipython>=4.0.0->ipywidgets<8,>=7.6.0->ipyleaflet>=0.13.3->geemap) (0.2.5)\n",
      "Requirement already satisfied: pyasn1<0.5.0,>=0.4.6 in c:\\users\\bihte\\anaconda3\\lib\\site-packages (from pyasn1-modules>=0.2.1->google-auth>=1.4.1->earthengine-api>=0.1.230->geemap) (0.4.8)\n",
      "Requirement already satisfied: urllib3!=1.25.0,!=1.25.1,<1.26,>=1.21.1 in c:\\users\\bihte\\anaconda3\\lib\\site-packages (from requests->folium>=0.11.0->geemap) (1.25.11)\n",
      "Requirement already satisfied: chardet<4,>=3.0.2 in c:\\users\\bihte\\anaconda3\\lib\\site-packages (from requests->folium>=0.11.0->geemap) (3.0.4)\n",
      "Requirement already satisfied: idna<3,>=2.5 in c:\\users\\bihte\\anaconda3\\lib\\site-packages (from requests->folium>=0.11.0->geemap) (2.10)\n",
      "Requirement already satisfied: certifi>=2017.4.17 in c:\\users\\bihte\\anaconda3\\lib\\site-packages (from requests->folium>=0.11.0->geemap) (2020.12.5)\n",
      "Requirement already satisfied: notebook>=4.4.1 in c:\\users\\bihte\\anaconda3\\lib\\site-packages (from widgetsnbextension~=3.5.0->ipywidgets<8,>=7.6.0->ipyleaflet>=0.13.3->geemap) (6.1.6)\n",
      "Requirement already satisfied: terminado>=0.8.3 in c:\\users\\bihte\\anaconda3\\lib\\site-packages (from notebook>=4.4.1->widgetsnbextension~=3.5.0->ipywidgets<8,>=7.6.0->ipyleaflet>=0.13.3->geemap) (0.9.1)\n",
      "Requirement already satisfied: nbconvert in c:\\users\\bihte\\anaconda3\\lib\\site-packages (from notebook>=4.4.1->widgetsnbextension~=3.5.0->ipywidgets<8,>=7.6.0->ipyleaflet>=0.13.3->geemap) (6.0.7)\n",
      "Requirement already satisfied: argon2-cffi in c:\\users\\bihte\\anaconda3\\lib\\site-packages (from notebook>=4.4.1->widgetsnbextension~=3.5.0->ipywidgets<8,>=7.6.0->ipyleaflet>=0.13.3->geemap) (20.1.0)\n",
      "Requirement already satisfied: Send2Trash in c:\\users\\bihte\\anaconda3\\lib\\site-packages (from notebook>=4.4.1->widgetsnbextension~=3.5.0->ipywidgets<8,>=7.6.0->ipyleaflet>=0.13.3->geemap) (1.5.0)\n",
      "Requirement already satisfied: pyzmq>=17 in c:\\users\\bihte\\anaconda3\\lib\\site-packages (from notebook>=4.4.1->widgetsnbextension~=3.5.0->ipywidgets<8,>=7.6.0->ipyleaflet>=0.13.3->geemap) (19.0.2)\n",
      "Requirement already satisfied: prometheus-client in c:\\users\\bihte\\anaconda3\\lib\\site-packages (from notebook>=4.4.1->widgetsnbextension~=3.5.0->ipywidgets<8,>=7.6.0->ipyleaflet>=0.13.3->geemap) (0.8.0)\n",
      "Requirement already satisfied: python-dateutil>=2.1 in c:\\users\\bihte\\anaconda3\\lib\\site-packages (from jupyter-client->ipykernel>=4.5.1->ipywidgets<8,>=7.6.0->ipyleaflet>=0.13.3->geemap) (2.8.1)\n",
      "Requirement already satisfied: pywin32>=1.0 in c:\\users\\bihte\\anaconda3\\lib\\site-packages (from jupyter-core->nbformat>=4.2.0->ipywidgets<8,>=7.6.0->ipyleaflet>=0.13.3->geemap) (227)\n"
     ]
    },
    {
     "name": "stdout",
     "output_type": "stream",
     "text": [
      "Requirement already satisfied: pywinpty>=0.5 in c:\\users\\bihte\\anaconda3\\lib\\site-packages (from terminado>=0.8.3->notebook>=4.4.1->widgetsnbextension~=3.5.0->ipywidgets<8,>=7.6.0->ipyleaflet>=0.13.3->geemap) (0.5.7)\n",
      "Requirement already satisfied: cffi>=1.0.0 in c:\\users\\bihte\\anaconda3\\lib\\site-packages (from argon2-cffi->notebook>=4.4.1->widgetsnbextension~=3.5.0->ipywidgets<8,>=7.6.0->ipyleaflet>=0.13.3->geemap) (1.14.3)\n",
      "Requirement already satisfied: pycparser in c:\\users\\bihte\\anaconda3\\lib\\site-packages (from cffi>=1.0.0->argon2-cffi->notebook>=4.4.1->widgetsnbextension~=3.5.0->ipywidgets<8,>=7.6.0->ipyleaflet>=0.13.3->geemap) (2.20)\n",
      "Requirement already satisfied: ratelim in c:\\users\\bihte\\anaconda3\\lib\\site-packages (from geocoder->geemap) (0.1.6)\n",
      "Requirement already satisfied: google-cloud-core<2.0dev,>=1.0.3 in c:\\users\\bihte\\anaconda3\\lib\\site-packages (from google-cloud-storage->earthengine-api>=0.1.230->geemap) (1.5.0)\n",
      "Requirement already satisfied: google-resumable-media>=0.3.1 in c:\\users\\bihte\\anaconda3\\lib\\site-packages (from google-cloud-storage->earthengine-api>=0.1.230->geemap) (1.2.0)\n",
      "Requirement already satisfied: google-crc32c<2.0dev,>=1.0 in c:\\users\\bihte\\anaconda3\\lib\\site-packages (from google-resumable-media>=0.3.1->google-cloud-storage->earthengine-api>=0.1.230->geemap) (1.1.0)\n",
      "Requirement already satisfied: pyparsing!=2.0.4,!=2.1.2,!=2.1.6,>=2.0.3 in c:\\users\\bihte\\anaconda3\\lib\\site-packages (from matplotlib->geemap) (2.4.7)\n",
      "Requirement already satisfied: kiwisolver>=1.0.1 in c:\\users\\bihte\\anaconda3\\lib\\site-packages (from matplotlib->geemap) (1.3.0)\n",
      "Requirement already satisfied: cycler>=0.10 in c:\\users\\bihte\\anaconda3\\lib\\site-packages (from matplotlib->geemap) (0.10.0)\n",
      "Requirement already satisfied: nbclient<0.6.0,>=0.5.0 in c:\\users\\bihte\\anaconda3\\lib\\site-packages (from nbconvert->notebook>=4.4.1->widgetsnbextension~=3.5.0->ipywidgets<8,>=7.6.0->ipyleaflet>=0.13.3->geemap) (0.5.1)\n",
      "Requirement already satisfied: pandocfilters>=1.4.1 in c:\\users\\bihte\\anaconda3\\lib\\site-packages (from nbconvert->notebook>=4.4.1->widgetsnbextension~=3.5.0->ipywidgets<8,>=7.6.0->ipyleaflet>=0.13.3->geemap) (1.4.3)\n",
      "Requirement already satisfied: bleach in c:\\users\\bihte\\anaconda3\\lib\\site-packages (from nbconvert->notebook>=4.4.1->widgetsnbextension~=3.5.0->ipywidgets<8,>=7.6.0->ipyleaflet>=0.13.3->geemap) (3.2.1)\n",
      "Requirement already satisfied: testpath in c:\\users\\bihte\\anaconda3\\lib\\site-packages (from nbconvert->notebook>=4.4.1->widgetsnbextension~=3.5.0->ipywidgets<8,>=7.6.0->ipyleaflet>=0.13.3->geemap) (0.4.4)\n",
      "Requirement already satisfied: mistune<2,>=0.8.1 in c:\\users\\bihte\\anaconda3\\lib\\site-packages (from nbconvert->notebook>=4.4.1->widgetsnbextension~=3.5.0->ipywidgets<8,>=7.6.0->ipyleaflet>=0.13.3->geemap) (0.8.4)\n",
      "Requirement already satisfied: defusedxml in c:\\users\\bihte\\anaconda3\\lib\\site-packages (from nbconvert->notebook>=4.4.1->widgetsnbextension~=3.5.0->ipywidgets<8,>=7.6.0->ipyleaflet>=0.13.3->geemap) (0.6.0)\n",
      "Requirement already satisfied: jupyterlab-pygments in c:\\users\\bihte\\anaconda3\\lib\\site-packages (from nbconvert->notebook>=4.4.1->widgetsnbextension~=3.5.0->ipywidgets<8,>=7.6.0->ipyleaflet>=0.13.3->geemap) (0.1.2)\n",
      "Requirement already satisfied: entrypoints>=0.2.2 in c:\\users\\bihte\\anaconda3\\lib\\site-packages (from nbconvert->notebook>=4.4.1->widgetsnbextension~=3.5.0->ipywidgets<8,>=7.6.0->ipyleaflet>=0.13.3->geemap) (0.3)\n",
      "Requirement already satisfied: nest-asyncio in c:\\users\\bihte\\anaconda3\\lib\\site-packages (from nbclient<0.6.0,>=0.5.0->nbconvert->notebook>=4.4.1->widgetsnbextension~=3.5.0->ipywidgets<8,>=7.6.0->ipyleaflet>=0.13.3->geemap) (1.4.2)\n",
      "Requirement already satisfied: async-generator in c:\\users\\bihte\\anaconda3\\lib\\site-packages (from nbclient<0.6.0,>=0.5.0->nbconvert->notebook>=4.4.1->widgetsnbextension~=3.5.0->ipywidgets<8,>=7.6.0->ipyleaflet>=0.13.3->geemap) (1.10)\n",
      "Requirement already satisfied: webencodings in c:\\users\\bihte\\anaconda3\\lib\\site-packages (from bleach->nbconvert->notebook>=4.4.1->widgetsnbextension~=3.5.0->ipywidgets<8,>=7.6.0->ipyleaflet>=0.13.3->geemap) (0.5.1)\n",
      "Requirement already satisfied: packaging in c:\\users\\bihte\\anaconda3\\lib\\site-packages (from bleach->nbconvert->notebook>=4.4.1->widgetsnbextension~=3.5.0->ipywidgets<8,>=7.6.0->ipyleaflet>=0.13.3->geemap) (20.4)\n",
      "Requirement already satisfied: jupyter-server<2.0.0,>=0.3.0 in c:\\users\\bihte\\anaconda3\\lib\\site-packages (from voila->geemap) (1.2.1)\n",
      "Requirement already satisfied: anyio>=2.0.2 in c:\\users\\bihte\\anaconda3\\lib\\site-packages (from jupyter-server<2.0.0,>=0.3.0->voila->geemap) (2.0.2)\n",
      "Requirement already satisfied: sniffio>=1.1 in c:\\users\\bihte\\anaconda3\\lib\\site-packages (from anyio>=2.0.2->jupyter-server<2.0.0,>=0.3.0->voila->geemap) (1.2.0)\n",
      "Requirement already satisfied: earthengine-api in c:\\users\\bihte\\anaconda3\\lib\\site-packages (0.1.247)\n",
      "Requirement already satisfied: httplib2<1dev,>=0.9.2 in c:\\users\\bihte\\anaconda3\\lib\\site-packages (from earthengine-api) (0.18.1)\n",
      "Requirement already satisfied: six in c:\\users\\bihte\\anaconda3\\lib\\site-packages (from earthengine-api) (1.15.0)\n",
      "Requirement already satisfied: google-auth>=1.4.1 in c:\\users\\bihte\\anaconda3\\lib\\site-packages (from earthengine-api) (1.24.0)\n",
      "Requirement already satisfied: httplib2shim in c:\\users\\bihte\\anaconda3\\lib\\site-packages (from earthengine-api) (0.0.3)\n",
      "Requirement already satisfied: google-auth-httplib2>=0.0.3 in c:\\users\\bihte\\anaconda3\\lib\\site-packages (from earthengine-api) (0.0.4)\n",
      "Requirement already satisfied: google-api-python-client>=1.12.1 in c:\\users\\bihte\\anaconda3\\lib\\site-packages (from earthengine-api) (1.12.8)\n",
      "Requirement already satisfied: google-cloud-storage in c:\\users\\bihte\\anaconda3\\lib\\site-packages (from earthengine-api) (1.19.0)\n",
      "Requirement already satisfied: future in c:\\users\\bihte\\anaconda3\\lib\\site-packages (from earthengine-api) (0.18.2)\n",
      "Requirement already satisfied: uritemplate<4dev,>=3.0.0 in c:\\users\\bihte\\anaconda3\\lib\\site-packages (from google-api-python-client>=1.12.1->earthengine-api) (3.0.1)\n",
      "Requirement already satisfied: google-api-core<2dev,>=1.21.0 in c:\\users\\bihte\\anaconda3\\lib\\site-packages (from google-api-python-client>=1.12.1->earthengine-api) (1.22.2)\n",
      "Requirement already satisfied: pytz in c:\\users\\bihte\\anaconda3\\lib\\site-packages (from google-api-core<2dev,>=1.21.0->google-api-python-client>=1.12.1->earthengine-api) (2020.1)\n",
      "Requirement already satisfied: setuptools>=34.0.0 in c:\\users\\bihte\\anaconda3\\lib\\site-packages (from google-api-core<2dev,>=1.21.0->google-api-python-client>=1.12.1->earthengine-api) (50.3.1.post20201107)\n",
      "Requirement already satisfied: googleapis-common-protos<2.0dev,>=1.6.0 in c:\\users\\bihte\\anaconda3\\lib\\site-packages (from google-api-core<2dev,>=1.21.0->google-api-python-client>=1.12.1->earthengine-api) (1.52.0)\n",
      "Requirement already satisfied: requests<3.0.0dev,>=2.18.0 in c:\\users\\bihte\\anaconda3\\lib\\site-packages (from google-api-core<2dev,>=1.21.0->google-api-python-client>=1.12.1->earthengine-api) (2.24.0)\n",
      "Requirement already satisfied: protobuf>=3.12.0 in c:\\users\\bihte\\anaconda3\\lib\\site-packages (from google-api-core<2dev,>=1.21.0->google-api-python-client>=1.12.1->earthengine-api) (3.14.0)\n",
      "Requirement already satisfied: cachetools<5.0,>=2.0.0 in c:\\users\\bihte\\anaconda3\\lib\\site-packages (from google-auth>=1.4.1->earthengine-api) (4.1.1)\n",
      "Requirement already satisfied: pyasn1-modules>=0.2.1 in c:\\users\\bihte\\anaconda3\\lib\\site-packages (from google-auth>=1.4.1->earthengine-api) (0.2.7)\n",
      "Requirement already satisfied: rsa<5,>=3.1.4 in c:\\users\\bihte\\anaconda3\\lib\\site-packages (from google-auth>=1.4.1->earthengine-api) (4.7)\n",
      "Requirement already satisfied: pyasn1<0.5.0,>=0.4.6 in c:\\users\\bihte\\anaconda3\\lib\\site-packages (from pyasn1-modules>=0.2.1->google-auth>=1.4.1->earthengine-api) (0.4.8)\n",
      "Requirement already satisfied: urllib3!=1.25.0,!=1.25.1,<1.26,>=1.21.1 in c:\\users\\bihte\\anaconda3\\lib\\site-packages (from requests<3.0.0dev,>=2.18.0->google-api-core<2dev,>=1.21.0->google-api-python-client>=1.12.1->earthengine-api) (1.25.11)\n",
      "Requirement already satisfied: certifi>=2017.4.17 in c:\\users\\bihte\\anaconda3\\lib\\site-packages (from requests<3.0.0dev,>=2.18.0->google-api-core<2dev,>=1.21.0->google-api-python-client>=1.12.1->earthengine-api) (2020.12.5)\n",
      "Requirement already satisfied: chardet<4,>=3.0.2 in c:\\users\\bihte\\anaconda3\\lib\\site-packages (from requests<3.0.0dev,>=2.18.0->google-api-core<2dev,>=1.21.0->google-api-python-client>=1.12.1->earthengine-api) (3.0.4)\n",
      "Requirement already satisfied: idna<3,>=2.5 in c:\\users\\bihte\\anaconda3\\lib\\site-packages (from requests<3.0.0dev,>=2.18.0->google-api-core<2dev,>=1.21.0->google-api-python-client>=1.12.1->earthengine-api) (2.10)\n",
      "Requirement already satisfied: google-cloud-core<2.0dev,>=1.0.3 in c:\\users\\bihte\\anaconda3\\lib\\site-packages (from google-cloud-storage->earthengine-api) (1.5.0)\n",
      "Requirement already satisfied: google-resumable-media>=0.3.1 in c:\\users\\bihte\\anaconda3\\lib\\site-packages (from google-cloud-storage->earthengine-api) (1.2.0)\n",
      "Requirement already satisfied: google-crc32c<2.0dev,>=1.0 in c:\\users\\bihte\\anaconda3\\lib\\site-packages (from google-resumable-media>=0.3.1->google-cloud-storage->earthengine-api) (1.1.0)\n",
      "Requirement already satisfied: cffi>=1.0.0 in c:\\users\\bihte\\anaconda3\\lib\\site-packages (from google-crc32c<2.0dev,>=1.0->google-resumable-media>=0.3.1->google-cloud-storage->earthengine-api) (1.14.3)\n",
      "Requirement already satisfied: pycparser in c:\\users\\bihte\\anaconda3\\lib\\site-packages (from cffi>=1.0.0->google-crc32c<2.0dev,>=1.0->google-resumable-media>=0.3.1->google-cloud-storage->earthengine-api) (2.20)\n"
     ]
    }
   ],
   "source": [
    "!pip install geemap\n",
    "!pip install earthengine-api --upgrade\n",
    "\n",
    "import geemap\n",
    "import ee"
   ]
  },
  {
   "cell_type": "code",
   "execution_count": 2,
   "metadata": {},
   "outputs": [
    {
     "name": "stdout",
     "output_type": "stream",
     "text": [
      "NLCD\n",
      "NWI\n",
      "MODIS/051/MCD12Q1\n",
      "GLOBCOVER\n",
      "JAXA/PALSAR\n",
      "MODIS/006/MCD12Q1\n",
      "Oxford\n",
      "AAFC/ACI\n",
      "COPERNICUS/CORINE/V20/100m\n",
      "COPERNICUS/Landcover/100m/Proba-V/Global\n",
      "USDA/NASS/CDL\n"
     ]
    }
   ],
   "source": [
    "legends = geemap.builtin_legends\n",
    "for legend in legends:\n",
    "    print(legend)"
   ]
  },
  {
   "cell_type": "code",
   "execution_count": 3,
   "metadata": {},
   "outputs": [
    {
     "data": {
      "application/vnd.jupyter.widget-view+json": {
       "model_id": "7caf2a944ac146db95445e8724733ebc",
       "version_major": 2,
       "version_minor": 0
      },
      "text/plain": [
       "Map(center=[40, -100], controls=(WidgetControl(options=['position', 'transparent_bg'], widget=HBox(children=(T…"
      ]
     },
     "metadata": {},
     "output_type": "display_data"
    }
   ],
   "source": [
    "m = geemap.Map()\n",
    "m.add_basemap('HYBRID')\n",
    "landcover = ee.Image('USGS/NLCD/NLCD2016').select('landcover')\n",
    "m.addLayer(landcover, {}, 'NLCD Land Cover')\n",
    "m.add_legend(builtin_legend='NLCD')\n",
    "m"
   ]
  },
  {
   "cell_type": "code",
   "execution_count": 4,
   "metadata": {},
   "outputs": [
    {
     "data": {
      "application/vnd.jupyter.widget-view+json": {
       "model_id": "94f4cf6e4bb04d0f8a62bcbe1379ae1f",
       "version_major": 2,
       "version_minor": 0
      },
      "text/plain": [
       "Map(center=[40, -100], controls=(WidgetControl(options=['position', 'transparent_bg'], widget=HBox(children=(T…"
      ]
     },
     "metadata": {},
     "output_type": "display_data"
    }
   ],
   "source": [
    "#National Wetlands Inventory (NWI)\n",
    "m1 = geemap.Map()\n",
    "m1.add_basemap('HYBRID')\n",
    "m1.add_basemap('FWS NWI Wetlands')\n",
    "m1.add_legend(builtin_legend='NWI')\n",
    "m1"
   ]
  },
  {
   "cell_type": "code",
   "execution_count": 5,
   "metadata": {},
   "outputs": [
    {
     "data": {
      "application/vnd.jupyter.widget-view+json": {
       "model_id": "bee34e9ace5445298a8a886631d3fe1c",
       "version_major": 2,
       "version_minor": 0
      },
      "text/plain": [
       "Map(center=[46.529, 6.746], controls=(WidgetControl(options=['position', 'transparent_bg'], widget=HBox(childr…"
      ]
     },
     "metadata": {},
     "output_type": "display_data"
    }
   ],
   "source": [
    "#MODIS Land Cover Type Yearly Global 500m\n",
    "m3 = geemap.Map()\n",
    "m3.add_basemap('HYBRID')\n",
    "\n",
    "landcover = ee.Image('MODIS/051/MCD12Q1/2013_01_01') \\\n",
    "    .select('Land_Cover_Type_1')\n",
    "\n",
    "m3.setCenter(6.746, 46.529, 2)\n",
    "m3.addLayer(landcover, {}, 'MODIS Land Cover')\n",
    "m3.add_legend(builtin_legend='MODIS/051/MCD12Q1')\n",
    "\n",
    "m3"
   ]
  },
  {
   "cell_type": "code",
   "execution_count": 7,
   "metadata": {},
   "outputs": [
    {
     "data": {
      "application/vnd.jupyter.widget-view+json": {
       "model_id": "a4fc1c6b91dd42b59c298433351c9fab",
       "version_major": 2,
       "version_minor": 0
      },
      "text/plain": [
       "Map(center=[40, -100], controls=(WidgetControl(options=['position', 'transparent_bg'], widget=HBox(children=(T…"
      ]
     },
     "metadata": {},
     "output_type": "display_data"
    }
   ],
   "source": [
    "# Add customized legends for Earth Engine data\n",
    "m4 = geemap.Map()\n",
    "\n",
    "legend_keys = ['One', 'Two', 'Three', 'Four', 'ect']\n",
    " #colorS can be defined using either hex code or RGB (0-255, 0-255, 0-255)\n",
    "legend_colors = ['#8DD3C7', '#FFFFB3', '#BEBADA', '#FB8072', '#80B1D3']\n",
    "# legend_colors = [(255, 0, 0), (127, 255, 0), (127, 18, 25), (36, 70, 180), (96, 68 123)]\n",
    "\n",
    "m4.add_legend(legend_keys=legend_keys, legend_colors=legend_colors, position='bottomleft')\n",
    "m4"
   ]
  },
  {
   "cell_type": "code",
   "execution_count": 8,
   "metadata": {},
   "outputs": [
    {
     "data": {
      "application/vnd.jupyter.widget-view+json": {
       "model_id": "3abe1df715d64b92a42b5796827d186e",
       "version_major": 2,
       "version_minor": 0
      },
      "text/plain": [
       "Map(center=[40, -100], controls=(WidgetControl(options=['position', 'transparent_bg'], widget=HBox(children=(T…"
      ]
     },
     "metadata": {},
     "output_type": "display_data"
    }
   ],
   "source": [
    "#Define a legend dictionary\n",
    "# check for classes from gee site\n",
    "m5 = geemap.Map()\n",
    "\n",
    "legend_dict = {\n",
    "    '11 Open Water': '466b9f',\n",
    "    '12 Perennial Ice/Snow': 'd1def8',\n",
    "    '21 Developed, Open Space': 'dec5c5',\n",
    "    '22 Developed, Low Intensity': 'd99282',\n",
    "    '23 Developed, Medium Intensity': 'eb0000',\n",
    "    '24 Developed High Intensity': 'ab0000',\n",
    "    '31 Barren Land (Rock/Sand/Clay)': 'b3ac9f',\n",
    "    '41 Deciduous Forest': '68ab5f',\n",
    "    '42 Evergreen Forest': '1c5f2c',\n",
    "    '43 Mixed Forest': 'b5c58f',\n",
    "    '51 Dwarf Scrub': 'af963c',\n",
    "    '52 Shrub/Scrub': 'ccb879',\n",
    "    '71 Grassland/Herbaceous': 'dfdfc2',\n",
    "    '72 Sedge/Herbaceous': 'd1d182',\n",
    "    '73 Lichens': 'a3cc51',\n",
    "    '74 Moss': '82ba9e',\n",
    "    '81 Pasture/Hay': 'dcd939',\n",
    "    '82 Cultivated Crops': 'ab6c28',\n",
    "    '90 Woody Wetlands': 'b8d9eb',\n",
    "    '95 Emergent Herbaceous Wetlands': '6c9fb8'\n",
    "}\n",
    "\n",
    "landcover = ee.Image('USGS/NLCD/NLCD2016').select('landcover')\n",
    "m5.addLayer(landcover, {}, 'NLCD Land Cover')\n",
    "\n",
    "m5.add_legend(legend_title=\"NLCD Land Cover Classification\", legend_dict=legend_dict)\n",
    "m5"
   ]
  },
  {
   "cell_type": "code",
   "execution_count": 9,
   "metadata": {},
   "outputs": [
    {
     "data": {
      "application/vnd.jupyter.widget-view+json": {
       "model_id": "ec6be1c7923542468bb7aae21bf531d4",
       "version_major": 2,
       "version_minor": 0
      },
      "text/plain": [
       "Map(center=[46.529, 6.746], controls=(WidgetControl(options=['position', 'transparent_bg'], widget=HBox(childr…"
      ]
     },
     "metadata": {},
     "output_type": "display_data"
    }
   ],
   "source": [
    "#Convert an Earth Engine class table to legend\n",
    "\n",
    "m6 = geemap.Map()\n",
    "\n",
    "ee_class_table = \"\"\"\n",
    "\n",
    "Value\tColor\tDescription\n",
    "0\t1c0dff\tWater\n",
    "1\t05450a\tEvergreen needleleaf forest\n",
    "2\t086a10\tEvergreen broadleaf forest\n",
    "3\t54a708\tDeciduous needleleaf forest\n",
    "4\t78d203\tDeciduous broadleaf forest\n",
    "5\t009900\tMixed forest\n",
    "6\tc6b044\tClosed shrublands\n",
    "7\tdcd159\tOpen shrublands\n",
    "8\tdade48\tWoody savannas\n",
    "9\tfbff13\tSavannas\n",
    "10\tb6ff05\tGrasslands\n",
    "11\t27ff87\tPermanent wetlands\n",
    "12\tc24f44\tCroplands\n",
    "13\ta5a5a5\tUrban and built-up\n",
    "14\tff6d4c\tCropland/natural vegetation mosaic\n",
    "15\t69fff8\tSnow and ice\n",
    "16\tf9ffa4\tBarren or sparsely vegetated\n",
    "254\tffffff\tUnclassified\n",
    "\n",
    "\"\"\"\n",
    "\n",
    "landcover = ee.Image('MODIS/051/MCD12Q1/2013_01_01') \\\n",
    "    .select('Land_Cover_Type_1')\n",
    "m6.setCenter(6.746, 46.529, 2)\n",
    "m6.addLayer(landcover, {}, 'MODIS Land Cover')\n",
    "\n",
    "legend_dict = geemap.legend_from_ee(ee_class_table)\n",
    "m6.add_legend(legend_title=\"MODIS Global Land Cover\", legend_dict=legend_dict)\n",
    "\n",
    "m6"
   ]
  },
  {
   "cell_type": "code",
   "execution_count": null,
   "metadata": {},
   "outputs": [],
   "source": []
  }
 ],
 "metadata": {
  "kernelspec": {
   "display_name": "Python 3",
   "language": "python",
   "name": "python3"
  },
  "language_info": {
   "codemirror_mode": {
    "name": "ipython",
    "version": 3
   },
   "file_extension": ".py",
   "mimetype": "text/x-python",
   "name": "python",
   "nbconvert_exporter": "python",
   "pygments_lexer": "ipython3",
   "version": "3.8.5"
  }
 },
 "nbformat": 4,
 "nbformat_minor": 4
}
