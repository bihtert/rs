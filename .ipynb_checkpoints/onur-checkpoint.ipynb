{
 "cells": [
  {
   "cell_type": "code",
   "execution_count": 1,
   "metadata": {},
   "outputs": [
    {
     "name": "stdout",
     "output_type": "stream",
     "text": [
      "Requirement already satisfied: earthengine-api in c:\\users\\bihte\\anaconda3\\lib\\site-packages (0.1.247)\n",
      "Requirement already satisfied: future in c:\\users\\bihte\\anaconda3\\lib\\site-packages (from earthengine-api) (0.18.2)\n",
      "Requirement already satisfied: google-auth-httplib2>=0.0.3 in c:\\users\\bihte\\anaconda3\\lib\\site-packages (from earthengine-api) (0.0.4)\n",
      "Requirement already satisfied: httplib2shim in c:\\users\\bihte\\anaconda3\\lib\\site-packages (from earthengine-api) (0.0.3)\n",
      "Requirement already satisfied: six in c:\\users\\bihte\\anaconda3\\lib\\site-packages (from earthengine-api) (1.15.0)\n",
      "Requirement already satisfied: google-api-python-client>=1.12.1 in c:\\users\\bihte\\anaconda3\\lib\\site-packages (from earthengine-api) (1.12.8)\n",
      "Requirement already satisfied: google-cloud-storage in c:\\users\\bihte\\anaconda3\\lib\\site-packages (from earthengine-api) (1.19.0)\n",
      "Requirement already satisfied: google-auth>=1.4.1 in c:\\users\\bihte\\anaconda3\\lib\\site-packages (from earthengine-api) (1.24.0)\n",
      "Requirement already satisfied: httplib2<1dev,>=0.9.2 in c:\\users\\bihte\\anaconda3\\lib\\site-packages (from earthengine-api) (0.18.1)\n",
      "Requirement already satisfied: uritemplate<4dev,>=3.0.0 in c:\\users\\bihte\\anaconda3\\lib\\site-packages (from google-api-python-client>=1.12.1->earthengine-api) (3.0.1)\n",
      "Requirement already satisfied: google-api-core<2dev,>=1.21.0 in c:\\users\\bihte\\anaconda3\\lib\\site-packages (from google-api-python-client>=1.12.1->earthengine-api) (1.22.2)\n",
      "Requirement already satisfied: googleapis-common-protos<2.0dev,>=1.6.0 in c:\\users\\bihte\\anaconda3\\lib\\site-packages (from google-api-core<2dev,>=1.21.0->google-api-python-client>=1.12.1->earthengine-api) (1.52.0)\n",
      "Requirement already satisfied: setuptools>=34.0.0 in c:\\users\\bihte\\anaconda3\\lib\\site-packages (from google-api-core<2dev,>=1.21.0->google-api-python-client>=1.12.1->earthengine-api) (50.3.1.post20201107)\n",
      "Requirement already satisfied: pytz in c:\\users\\bihte\\anaconda3\\lib\\site-packages (from google-api-core<2dev,>=1.21.0->google-api-python-client>=1.12.1->earthengine-api) (2020.1)\n",
      "Requirement already satisfied: protobuf>=3.12.0 in c:\\users\\bihte\\anaconda3\\lib\\site-packages (from google-api-core<2dev,>=1.21.0->google-api-python-client>=1.12.1->earthengine-api) (3.14.0)\n",
      "Requirement already satisfied: requests<3.0.0dev,>=2.18.0 in c:\\users\\bihte\\anaconda3\\lib\\site-packages (from google-api-core<2dev,>=1.21.0->google-api-python-client>=1.12.1->earthengine-api) (2.24.0)\n",
      "Requirement already satisfied: pyasn1-modules>=0.2.1 in c:\\users\\bihte\\anaconda3\\lib\\site-packages (from google-auth>=1.4.1->earthengine-api) (0.2.7)\n",
      "Requirement already satisfied: rsa<5,>=3.1.4 in c:\\users\\bihte\\anaconda3\\lib\\site-packages (from google-auth>=1.4.1->earthengine-api) (4.7)\n",
      "Requirement already satisfied: cachetools<5.0,>=2.0.0 in c:\\users\\bihte\\anaconda3\\lib\\site-packages (from google-auth>=1.4.1->earthengine-api) (4.1.1)\n",
      "Requirement already satisfied: pyasn1<0.5.0,>=0.4.6 in c:\\users\\bihte\\anaconda3\\lib\\site-packages (from pyasn1-modules>=0.2.1->google-auth>=1.4.1->earthengine-api) (0.4.8)\n",
      "Requirement already satisfied: chardet<4,>=3.0.2 in c:\\users\\bihte\\anaconda3\\lib\\site-packages (from requests<3.0.0dev,>=2.18.0->google-api-core<2dev,>=1.21.0->google-api-python-client>=1.12.1->earthengine-api) (3.0.4)\n",
      "Requirement already satisfied: urllib3!=1.25.0,!=1.25.1,<1.26,>=1.21.1 in c:\\users\\bihte\\anaconda3\\lib\\site-packages (from requests<3.0.0dev,>=2.18.0->google-api-core<2dev,>=1.21.0->google-api-python-client>=1.12.1->earthengine-api) (1.25.11)\n",
      "Requirement already satisfied: idna<3,>=2.5 in c:\\users\\bihte\\anaconda3\\lib\\site-packages (from requests<3.0.0dev,>=2.18.0->google-api-core<2dev,>=1.21.0->google-api-python-client>=1.12.1->earthengine-api) (2.10)\n",
      "Requirement already satisfied: certifi>=2017.4.17 in c:\\users\\bihte\\anaconda3\\lib\\site-packages (from requests<3.0.0dev,>=2.18.0->google-api-core<2dev,>=1.21.0->google-api-python-client>=1.12.1->earthengine-api) (2020.12.5)\n",
      "Requirement already satisfied: google-cloud-core<2.0dev,>=1.0.3 in c:\\users\\bihte\\anaconda3\\lib\\site-packages (from google-cloud-storage->earthengine-api) (1.5.0)\n",
      "Requirement already satisfied: google-resumable-media>=0.3.1 in c:\\users\\bihte\\anaconda3\\lib\\site-packages (from google-cloud-storage->earthengine-api) (1.2.0)\n",
      "Requirement already satisfied: google-crc32c<2.0dev,>=1.0 in c:\\users\\bihte\\anaconda3\\lib\\site-packages (from google-resumable-media>=0.3.1->google-cloud-storage->earthengine-api) (1.1.0)\n",
      "Requirement already satisfied: cffi>=1.0.0 in c:\\users\\bihte\\anaconda3\\lib\\site-packages (from google-crc32c<2.0dev,>=1.0->google-resumable-media>=0.3.1->google-cloud-storage->earthengine-api) (1.14.3)\n",
      "Requirement already satisfied: pycparser in c:\\users\\bihte\\anaconda3\\lib\\site-packages (from cffi>=1.0.0->google-crc32c<2.0dev,>=1.0->google-resumable-media>=0.3.1->google-cloud-storage->earthengine-api) (2.20)\n",
      "Requirement already satisfied: folium in c:\\users\\bihte\\anaconda3\\lib\\site-packages (0.12.0)\n",
      "Requirement already satisfied: numpy in c:\\users\\bihte\\anaconda3\\lib\\site-packages (from folium) (1.19.2)\n",
      "Requirement already satisfied: jinja2>=2.9 in c:\\users\\bihte\\anaconda3\\lib\\site-packages (from folium) (2.11.2)\n",
      "Requirement already satisfied: requests in c:\\users\\bihte\\anaconda3\\lib\\site-packages (from folium) (2.24.0)\n",
      "Requirement already satisfied: branca>=0.3.0 in c:\\users\\bihte\\anaconda3\\lib\\site-packages (from folium) (0.4.2)\n",
      "Requirement already satisfied: MarkupSafe>=0.23 in c:\\users\\bihte\\anaconda3\\lib\\site-packages (from jinja2>=2.9->folium) (1.1.1)\n",
      "Requirement already satisfied: idna<3,>=2.5 in c:\\users\\bihte\\anaconda3\\lib\\site-packages (from requests->folium) (2.10)\n",
      "Requirement already satisfied: chardet<4,>=3.0.2 in c:\\users\\bihte\\anaconda3\\lib\\site-packages (from requests->folium) (3.0.4)\n",
      "Requirement already satisfied: urllib3!=1.25.0,!=1.25.1,<1.26,>=1.21.1 in c:\\users\\bihte\\anaconda3\\lib\\site-packages (from requests->folium) (1.25.11)\n",
      "Requirement already satisfied: certifi>=2017.4.17 in c:\\users\\bihte\\anaconda3\\lib\\site-packages (from requests->folium) (2020.12.5)\n",
      "Requirement already satisfied: geehydro in c:\\users\\bihte\\anaconda3\\lib\\site-packages (0.2.0)\n",
      "Requirement already satisfied: folium in c:\\users\\bihte\\anaconda3\\lib\\site-packages (from geehydro) (0.12.0)\n",
      "Requirement already satisfied: click in c:\\users\\bihte\\anaconda3\\lib\\site-packages (from geehydro) (7.1.2)\n",
      "Requirement already satisfied: earthengine-api in c:\\users\\bihte\\anaconda3\\lib\\site-packages (from geehydro) (0.1.247)\n",
      "Requirement already satisfied: google-cloud-storage in c:\\users\\bihte\\anaconda3\\lib\\site-packages (from earthengine-api->geehydro) (1.19.0)\n",
      "Requirement already satisfied: google-auth>=1.4.1 in c:\\users\\bihte\\anaconda3\\lib\\site-packages (from earthengine-api->geehydro) (1.24.0)\n",
      "Requirement already satisfied: httplib2<1dev,>=0.9.2 in c:\\users\\bihte\\anaconda3\\lib\\site-packages (from earthengine-api->geehydro) (0.18.1)\n",
      "Requirement already satisfied: six in c:\\users\\bihte\\anaconda3\\lib\\site-packages (from earthengine-api->geehydro) (1.15.0)\n",
      "Requirement already satisfied: future in c:\\users\\bihte\\anaconda3\\lib\\site-packages (from earthengine-api->geehydro) (0.18.2)\n",
      "Requirement already satisfied: google-auth-httplib2>=0.0.3 in c:\\users\\bihte\\anaconda3\\lib\\site-packages (from earthengine-api->geehydro) (0.0.4)\n",
      "Requirement already satisfied: httplib2shim in c:\\users\\bihte\\anaconda3\\lib\\site-packages (from earthengine-api->geehydro) (0.0.3)\n",
      "Requirement already satisfied: google-api-python-client>=1.12.1 in c:\\users\\bihte\\anaconda3\\lib\\site-packages (from earthengine-api->geehydro) (1.12.8)\n",
      "Requirement already satisfied: google-api-core<2dev,>=1.21.0 in c:\\users\\bihte\\anaconda3\\lib\\site-packages (from google-api-python-client>=1.12.1->earthengine-api->geehydro) (1.22.2)\n",
      "Requirement already satisfied: uritemplate<4dev,>=3.0.0 in c:\\users\\bihte\\anaconda3\\lib\\site-packages (from google-api-python-client>=1.12.1->earthengine-api->geehydro) (3.0.1)\n",
      "Requirement already satisfied: protobuf>=3.12.0 in c:\\users\\bihte\\anaconda3\\lib\\site-packages (from google-api-core<2dev,>=1.21.0->google-api-python-client>=1.12.1->earthengine-api->geehydro) (3.14.0)\n",
      "Requirement already satisfied: requests<3.0.0dev,>=2.18.0 in c:\\users\\bihte\\anaconda3\\lib\\site-packages (from google-api-core<2dev,>=1.21.0->google-api-python-client>=1.12.1->earthengine-api->geehydro) (2.24.0)\n",
      "Requirement already satisfied: pytz in c:\\users\\bihte\\anaconda3\\lib\\site-packages (from google-api-core<2dev,>=1.21.0->google-api-python-client>=1.12.1->earthengine-api->geehydro) (2020.1)\n",
      "Requirement already satisfied: setuptools>=34.0.0 in c:\\users\\bihte\\anaconda3\\lib\\site-packages (from google-api-core<2dev,>=1.21.0->google-api-python-client>=1.12.1->earthengine-api->geehydro) (50.3.1.post20201107)\n",
      "Requirement already satisfied: googleapis-common-protos<2.0dev,>=1.6.0 in c:\\users\\bihte\\anaconda3\\lib\\site-packages (from google-api-core<2dev,>=1.21.0->google-api-python-client>=1.12.1->earthengine-api->geehydro) (1.52.0)\n",
      "Requirement already satisfied: cachetools<5.0,>=2.0.0 in c:\\users\\bihte\\anaconda3\\lib\\site-packages (from google-auth>=1.4.1->earthengine-api->geehydro) (4.1.1)\n",
      "Requirement already satisfied: pyasn1-modules>=0.2.1 in c:\\users\\bihte\\anaconda3\\lib\\site-packages (from google-auth>=1.4.1->earthengine-api->geehydro) (0.2.7)\n",
      "Requirement already satisfied: rsa<5,>=3.1.4 in c:\\users\\bihte\\anaconda3\\lib\\site-packages (from google-auth>=1.4.1->earthengine-api->geehydro) (4.7)\n",
      "Requirement already satisfied: pyasn1<0.5.0,>=0.4.6 in c:\\users\\bihte\\anaconda3\\lib\\site-packages (from pyasn1-modules>=0.2.1->google-auth>=1.4.1->earthengine-api->geehydro) (0.4.8)\n",
      "Requirement already satisfied: idna<3,>=2.5 in c:\\users\\bihte\\anaconda3\\lib\\site-packages (from requests<3.0.0dev,>=2.18.0->google-api-core<2dev,>=1.21.0->google-api-python-client>=1.12.1->earthengine-api->geehydro) (2.10)\n",
      "Requirement already satisfied: certifi>=2017.4.17 in c:\\users\\bihte\\anaconda3\\lib\\site-packages (from requests<3.0.0dev,>=2.18.0->google-api-core<2dev,>=1.21.0->google-api-python-client>=1.12.1->earthengine-api->geehydro) (2020.12.5)\n",
      "Requirement already satisfied: chardet<4,>=3.0.2 in c:\\users\\bihte\\anaconda3\\lib\\site-packages (from requests<3.0.0dev,>=2.18.0->google-api-core<2dev,>=1.21.0->google-api-python-client>=1.12.1->earthengine-api->geehydro) (3.0.4)\n",
      "Requirement already satisfied: urllib3!=1.25.0,!=1.25.1,<1.26,>=1.21.1 in c:\\users\\bihte\\anaconda3\\lib\\site-packages (from requests<3.0.0dev,>=2.18.0->google-api-core<2dev,>=1.21.0->google-api-python-client>=1.12.1->earthengine-api->geehydro) (1.25.11)\n",
      "Requirement already satisfied: numpy in c:\\users\\bihte\\anaconda3\\lib\\site-packages (from folium->geehydro) (1.19.2)\n",
      "Requirement already satisfied: jinja2>=2.9 in c:\\users\\bihte\\anaconda3\\lib\\site-packages (from folium->geehydro) (2.11.2)\n",
      "Requirement already satisfied: branca>=0.3.0 in c:\\users\\bihte\\anaconda3\\lib\\site-packages (from folium->geehydro) (0.4.2)\n",
      "Requirement already satisfied: MarkupSafe>=0.23 in c:\\users\\bihte\\anaconda3\\lib\\site-packages (from jinja2>=2.9->folium->geehydro) (1.1.1)\n",
      "Requirement already satisfied: google-cloud-core<2.0dev,>=1.0.3 in c:\\users\\bihte\\anaconda3\\lib\\site-packages (from google-cloud-storage->earthengine-api->geehydro) (1.5.0)\n",
      "Requirement already satisfied: google-resumable-media>=0.3.1 in c:\\users\\bihte\\anaconda3\\lib\\site-packages (from google-cloud-storage->earthengine-api->geehydro) (1.2.0)\n",
      "Requirement already satisfied: google-crc32c<2.0dev,>=1.0 in c:\\users\\bihte\\anaconda3\\lib\\site-packages (from google-resumable-media>=0.3.1->google-cloud-storage->earthengine-api->geehydro) (1.1.0)\n",
      "Requirement already satisfied: cffi>=1.0.0 in c:\\users\\bihte\\anaconda3\\lib\\site-packages (from google-crc32c<2.0dev,>=1.0->google-resumable-media>=0.3.1->google-cloud-storage->earthengine-api->geehydro) (1.14.3)\n",
      "Requirement already satisfied: pycparser in c:\\users\\bihte\\anaconda3\\lib\\site-packages (from cffi>=1.0.0->google-crc32c<2.0dev,>=1.0->google-resumable-media>=0.3.1->google-cloud-storage->earthengine-api->geehydro) (2.20)\n"
     ]
    },
    {
     "name": "stdout",
     "output_type": "stream",
     "text": [
      "Requirement already satisfied: geemap in c:\\users\\bihte\\anaconda3\\lib\\site-packages (0.8.7)\n",
      "Requirement already satisfied: geocoder in c:\\users\\bihte\\anaconda3\\lib\\site-packages (from geemap) (1.38.1)\n",
      "Requirement already satisfied: matplotlib in c:\\users\\bihte\\anaconda3\\lib\\site-packages (from geemap) (3.3.2)\n",
      "Requirement already satisfied: whitebox in c:\\users\\bihte\\anaconda3\\lib\\site-packages (from geemap) (1.4.0)\n",
      "Requirement already satisfied: ipynb-py-convert in c:\\users\\bihte\\anaconda3\\lib\\site-packages (from geemap) (0.4.6)\n",
      "Requirement already satisfied: earthengine-api>=0.1.230 in c:\\users\\bihte\\anaconda3\\lib\\site-packages (from geemap) (0.1.247)\n",
      "Requirement already satisfied: ipyleaflet>=0.13.3 in c:\\users\\bihte\\anaconda3\\lib\\site-packages (from geemap) (0.13.6)\n",
      "Requirement already satisfied: voila in c:\\users\\bihte\\anaconda3\\lib\\site-packages (from geemap) (0.2.6)\n",
      "Requirement already satisfied: pandas in c:\\users\\bihte\\anaconda3\\lib\\site-packages (from geemap) (1.1.3)\n",
      "Requirement already satisfied: colour in c:\\users\\bihte\\anaconda3\\lib\\site-packages (from geemap) (0.1.5)\n",
      "Requirement already satisfied: mss in c:\\users\\bihte\\anaconda3\\lib\\site-packages (from geemap) (6.1.0)\n",
      "Requirement already satisfied: folium>=0.11.0 in c:\\users\\bihte\\anaconda3\\lib\\site-packages (from geemap) (0.12.0)\n",
      "Requirement already satisfied: pyshp in c:\\users\\bihte\\anaconda3\\lib\\site-packages (from geemap) (2.1.2)\n",
      "Requirement already satisfied: ffmpeg-python in c:\\users\\bihte\\anaconda3\\lib\\site-packages (from geemap) (0.2.0)\n",
      "Requirement already satisfied: ipyfilechooser in c:\\users\\bihte\\anaconda3\\lib\\site-packages (from geemap) (0.4.1)\n",
      "Requirement already satisfied: click in c:\\users\\bihte\\anaconda3\\lib\\site-packages (from geemap) (7.1.2)\n",
      "Requirement already satisfied: bqplot in c:\\users\\bihte\\anaconda3\\lib\\site-packages (from geemap) (0.12.20)\n",
      "Requirement already satisfied: numpy in c:\\users\\bihte\\anaconda3\\lib\\site-packages (from geemap) (1.19.2)\n",
      "Requirement already satisfied: ipyevents in c:\\users\\bihte\\anaconda3\\lib\\site-packages (from geemap) (0.8.1)\n",
      "Requirement already satisfied: ipytree in c:\\users\\bihte\\anaconda3\\lib\\site-packages (from geemap) (0.1.8)\n",
      "Requirement already satisfied: geeadd>=0.5.1 in c:\\users\\bihte\\anaconda3\\lib\\site-packages (from geemap) (0.5.3)\n",
      "Requirement already satisfied: pillow in c:\\users\\bihte\\anaconda3\\lib\\site-packages (from geemap) (8.0.1)\n",
      "Requirement already satisfied: six in c:\\users\\bihte\\anaconda3\\lib\\site-packages (from earthengine-api>=0.1.230->geemap) (1.15.0)\n",
      "Requirement already satisfied: google-auth-httplib2>=0.0.3 in c:\\users\\bihte\\anaconda3\\lib\\site-packages (from earthengine-api>=0.1.230->geemap) (0.0.4)\n",
      "Requirement already satisfied: httplib2<1dev,>=0.9.2 in c:\\users\\bihte\\anaconda3\\lib\\site-packages (from earthengine-api>=0.1.230->geemap) (0.18.1)\n",
      "Requirement already satisfied: httplib2shim in c:\\users\\bihte\\anaconda3\\lib\\site-packages (from earthengine-api>=0.1.230->geemap) (0.0.3)\n",
      "Requirement already satisfied: google-auth>=1.4.1 in c:\\users\\bihte\\anaconda3\\lib\\site-packages (from earthengine-api>=0.1.230->geemap) (1.24.0)\n",
      "Requirement already satisfied: google-api-python-client>=1.12.1 in c:\\users\\bihte\\anaconda3\\lib\\site-packages (from earthengine-api>=0.1.230->geemap) (1.12.8)\n",
      "Requirement already satisfied: google-cloud-storage in c:\\users\\bihte\\anaconda3\\lib\\site-packages (from earthengine-api>=0.1.230->geemap) (1.19.0)\n",
      "Requirement already satisfied: future in c:\\users\\bihte\\anaconda3\\lib\\site-packages (from earthengine-api>=0.1.230->geemap) (0.18.2)\n",
      "Requirement already satisfied: requests in c:\\users\\bihte\\anaconda3\\lib\\site-packages (from folium>=0.11.0->geemap) (2.24.0)\n",
      "Requirement already satisfied: branca>=0.3.0 in c:\\users\\bihte\\anaconda3\\lib\\site-packages (from folium>=0.11.0->geemap) (0.4.2)\n",
      "Requirement already satisfied: jinja2>=2.9 in c:\\users\\bihte\\anaconda3\\lib\\site-packages (from folium>=0.11.0->geemap) (2.11.2)\n",
      "Requirement already satisfied: logzero>=1.5.0 in c:\\users\\bihte\\anaconda3\\lib\\site-packages (from geeadd>=0.5.1->geemap) (1.6.3)\n",
      "Requirement already satisfied: beautifulsoup4>=4.9.0 in c:\\users\\bihte\\anaconda3\\lib\\site-packages (from geeadd>=0.5.1->geemap) (4.9.3)\n",
      "Requirement already satisfied: soupsieve>1.2 in c:\\users\\bihte\\anaconda3\\lib\\site-packages (from beautifulsoup4>=4.9.0->geeadd>=0.5.1->geemap) (2.0.1)\n",
      "Requirement already satisfied: google-api-core<2dev,>=1.21.0 in c:\\users\\bihte\\anaconda3\\lib\\site-packages (from google-api-python-client>=1.12.1->earthengine-api>=0.1.230->geemap) (1.22.2)\n",
      "Requirement already satisfied: uritemplate<4dev,>=3.0.0 in c:\\users\\bihte\\anaconda3\\lib\\site-packages (from google-api-python-client>=1.12.1->earthengine-api>=0.1.230->geemap) (3.0.1)\n",
      "Requirement already satisfied: protobuf>=3.12.0 in c:\\users\\bihte\\anaconda3\\lib\\site-packages (from google-api-core<2dev,>=1.21.0->google-api-python-client>=1.12.1->earthengine-api>=0.1.230->geemap) (3.14.0)\n",
      "Requirement already satisfied: pytz in c:\\users\\bihte\\anaconda3\\lib\\site-packages (from google-api-core<2dev,>=1.21.0->google-api-python-client>=1.12.1->earthengine-api>=0.1.230->geemap) (2020.1)\n",
      "Requirement already satisfied: setuptools>=34.0.0 in c:\\users\\bihte\\anaconda3\\lib\\site-packages (from google-api-core<2dev,>=1.21.0->google-api-python-client>=1.12.1->earthengine-api>=0.1.230->geemap) (50.3.1.post20201107)\n",
      "Requirement already satisfied: googleapis-common-protos<2.0dev,>=1.6.0 in c:\\users\\bihte\\anaconda3\\lib\\site-packages (from google-api-core<2dev,>=1.21.0->google-api-python-client>=1.12.1->earthengine-api>=0.1.230->geemap) (1.52.0)\n",
      "Requirement already satisfied: cachetools<5.0,>=2.0.0 in c:\\users\\bihte\\anaconda3\\lib\\site-packages (from google-auth>=1.4.1->earthengine-api>=0.1.230->geemap) (4.1.1)\n",
      "Requirement already satisfied: rsa<5,>=3.1.4 in c:\\users\\bihte\\anaconda3\\lib\\site-packages (from google-auth>=1.4.1->earthengine-api>=0.1.230->geemap) (4.7)\n",
      "Requirement already satisfied: pyasn1-modules>=0.2.1 in c:\\users\\bihte\\anaconda3\\lib\\site-packages (from google-auth>=1.4.1->earthengine-api>=0.1.230->geemap) (0.2.7)\n",
      "Requirement already satisfied: ipywidgets<8,>=7.6.0 in c:\\users\\bihte\\anaconda3\\lib\\site-packages (from ipyleaflet>=0.13.3->geemap) (7.6.3)\n",
      "Requirement already satisfied: shapely in c:\\users\\bihte\\anaconda3\\lib\\site-packages (from ipyleaflet>=0.13.3->geemap) (1.7.1)\n",
      "Requirement already satisfied: traittypes<3,>=0.2.1 in c:\\users\\bihte\\anaconda3\\lib\\site-packages (from ipyleaflet>=0.13.3->geemap) (0.2.1)\n",
      "Requirement already satisfied: nbformat>=4.2.0 in c:\\users\\bihte\\anaconda3\\lib\\site-packages (from ipywidgets<8,>=7.6.0->ipyleaflet>=0.13.3->geemap) (5.0.8)\n",
      "Requirement already satisfied: traitlets>=4.3.1 in c:\\users\\bihte\\anaconda3\\lib\\site-packages (from ipywidgets<8,>=7.6.0->ipyleaflet>=0.13.3->geemap) (5.0.5)\n",
      "Requirement already satisfied: jupyterlab-widgets>=1.0.0 in c:\\users\\bihte\\anaconda3\\lib\\site-packages (from ipywidgets<8,>=7.6.0->ipyleaflet>=0.13.3->geemap) (1.0.0)\n",
      "Requirement already satisfied: widgetsnbextension~=3.5.0 in c:\\users\\bihte\\anaconda3\\lib\\site-packages (from ipywidgets<8,>=7.6.0->ipyleaflet>=0.13.3->geemap) (3.5.1)\n",
      "Requirement already satisfied: ipykernel>=4.5.1 in c:\\users\\bihte\\anaconda3\\lib\\site-packages (from ipywidgets<8,>=7.6.0->ipyleaflet>=0.13.3->geemap) (5.3.4)\n",
      "Requirement already satisfied: ipython>=4.0.0 in c:\\users\\bihte\\anaconda3\\lib\\site-packages (from ipywidgets<8,>=7.6.0->ipyleaflet>=0.13.3->geemap) (7.19.0)\n",
      "Requirement already satisfied: jupyter-client in c:\\users\\bihte\\anaconda3\\lib\\site-packages (from ipykernel>=4.5.1->ipywidgets<8,>=7.6.0->ipyleaflet>=0.13.3->geemap) (6.1.7)\n",
      "Requirement already satisfied: tornado>=4.2 in c:\\users\\bihte\\anaconda3\\lib\\site-packages (from ipykernel>=4.5.1->ipywidgets<8,>=7.6.0->ipyleaflet>=0.13.3->geemap) (6.1)\n",
      "Requirement already satisfied: prompt-toolkit!=3.0.0,!=3.0.1,<3.1.0,>=2.0.0 in c:\\users\\bihte\\anaconda3\\lib\\site-packages (from ipython>=4.0.0->ipywidgets<8,>=7.6.0->ipyleaflet>=0.13.3->geemap) (3.0.8)\n",
      "Requirement already satisfied: colorama in c:\\users\\bihte\\anaconda3\\lib\\site-packages (from ipython>=4.0.0->ipywidgets<8,>=7.6.0->ipyleaflet>=0.13.3->geemap) (0.4.4)\n",
      "Requirement already satisfied: decorator in c:\\users\\bihte\\anaconda3\\lib\\site-packages (from ipython>=4.0.0->ipywidgets<8,>=7.6.0->ipyleaflet>=0.13.3->geemap) (4.4.2)\n",
      "Requirement already satisfied: jedi>=0.10 in c:\\users\\bihte\\anaconda3\\lib\\site-packages (from ipython>=4.0.0->ipywidgets<8,>=7.6.0->ipyleaflet>=0.13.3->geemap) (0.17.1)\n",
      "Requirement already satisfied: pygments in c:\\users\\bihte\\anaconda3\\lib\\site-packages (from ipython>=4.0.0->ipywidgets<8,>=7.6.0->ipyleaflet>=0.13.3->geemap) (2.7.2)\n",
      "Requirement already satisfied: pickleshare in c:\\users\\bihte\\anaconda3\\lib\\site-packages (from ipython>=4.0.0->ipywidgets<8,>=7.6.0->ipyleaflet>=0.13.3->geemap) (0.7.5)\n",
      "Requirement already satisfied: backcall in c:\\users\\bihte\\anaconda3\\lib\\site-packages (from ipython>=4.0.0->ipywidgets<8,>=7.6.0->ipyleaflet>=0.13.3->geemap) (0.2.0)\n",
      "Requirement already satisfied: parso<0.8.0,>=0.7.0 in c:\\users\\bihte\\anaconda3\\lib\\site-packages (from jedi>=0.10->ipython>=4.0.0->ipywidgets<8,>=7.6.0->ipyleaflet>=0.13.3->geemap) (0.7.0)\n",
      "Requirement already satisfied: MarkupSafe>=0.23 in c:\\users\\bihte\\anaconda3\\lib\\site-packages (from jinja2>=2.9->folium>=0.11.0->geemap) (1.1.1)\n",
      "Requirement already satisfied: jsonschema!=2.5.0,>=2.4 in c:\\users\\bihte\\anaconda3\\lib\\site-packages (from nbformat>=4.2.0->ipywidgets<8,>=7.6.0->ipyleaflet>=0.13.3->geemap) (3.2.0)\n",
      "Requirement already satisfied: ipython-genutils in c:\\users\\bihte\\anaconda3\\lib\\site-packages (from nbformat>=4.2.0->ipywidgets<8,>=7.6.0->ipyleaflet>=0.13.3->geemap) (0.2.0)\n",
      "Requirement already satisfied: jupyter-core in c:\\users\\bihte\\anaconda3\\lib\\site-packages (from nbformat>=4.2.0->ipywidgets<8,>=7.6.0->ipyleaflet>=0.13.3->geemap) (4.6.3)\n",
      "Requirement already satisfied: attrs>=17.4.0 in c:\\users\\bihte\\anaconda3\\lib\\site-packages (from jsonschema!=2.5.0,>=2.4->nbformat>=4.2.0->ipywidgets<8,>=7.6.0->ipyleaflet>=0.13.3->geemap) (20.3.0)\n",
      "Requirement already satisfied: pyrsistent>=0.14.0 in c:\\users\\bihte\\anaconda3\\lib\\site-packages (from jsonschema!=2.5.0,>=2.4->nbformat>=4.2.0->ipywidgets<8,>=7.6.0->ipyleaflet>=0.13.3->geemap) (0.17.3)\n",
      "Requirement already satisfied: wcwidth in c:\\users\\bihte\\anaconda3\\lib\\site-packages (from prompt-toolkit!=3.0.0,!=3.0.1,<3.1.0,>=2.0.0->ipython>=4.0.0->ipywidgets<8,>=7.6.0->ipyleaflet>=0.13.3->geemap) (0.2.5)\n",
      "Requirement already satisfied: pyasn1<0.5.0,>=0.4.6 in c:\\users\\bihte\\anaconda3\\lib\\site-packages (from pyasn1-modules>=0.2.1->google-auth>=1.4.1->earthengine-api>=0.1.230->geemap) (0.4.8)\n",
      "Requirement already satisfied: chardet<4,>=3.0.2 in c:\\users\\bihte\\anaconda3\\lib\\site-packages (from requests->folium>=0.11.0->geemap) (3.0.4)\n",
      "Requirement already satisfied: idna<3,>=2.5 in c:\\users\\bihte\\anaconda3\\lib\\site-packages (from requests->folium>=0.11.0->geemap) (2.10)\n",
      "Requirement already satisfied: certifi>=2017.4.17 in c:\\users\\bihte\\anaconda3\\lib\\site-packages (from requests->folium>=0.11.0->geemap) (2020.12.5)\n",
      "Requirement already satisfied: urllib3!=1.25.0,!=1.25.1,<1.26,>=1.21.1 in c:\\users\\bihte\\anaconda3\\lib\\site-packages (from requests->folium>=0.11.0->geemap) (1.25.11)\n",
      "Requirement already satisfied: notebook>=4.4.1 in c:\\users\\bihte\\anaconda3\\lib\\site-packages (from widgetsnbextension~=3.5.0->ipywidgets<8,>=7.6.0->ipyleaflet>=0.13.3->geemap) (6.1.6)\n",
      "Requirement already satisfied: pyzmq>=17 in c:\\users\\bihte\\anaconda3\\lib\\site-packages (from notebook>=4.4.1->widgetsnbextension~=3.5.0->ipywidgets<8,>=7.6.0->ipyleaflet>=0.13.3->geemap) (19.0.2)\n",
      "Requirement already satisfied: Send2Trash in c:\\users\\bihte\\anaconda3\\lib\\site-packages (from notebook>=4.4.1->widgetsnbextension~=3.5.0->ipywidgets<8,>=7.6.0->ipyleaflet>=0.13.3->geemap) (1.5.0)\n",
      "Requirement already satisfied: argon2-cffi in c:\\users\\bihte\\anaconda3\\lib\\site-packages (from notebook>=4.4.1->widgetsnbextension~=3.5.0->ipywidgets<8,>=7.6.0->ipyleaflet>=0.13.3->geemap) (20.1.0)\n",
      "Requirement already satisfied: nbconvert in c:\\users\\bihte\\anaconda3\\lib\\site-packages (from notebook>=4.4.1->widgetsnbextension~=3.5.0->ipywidgets<8,>=7.6.0->ipyleaflet>=0.13.3->geemap) (6.0.7)\n",
      "Requirement already satisfied: terminado>=0.8.3 in c:\\users\\bihte\\anaconda3\\lib\\site-packages (from notebook>=4.4.1->widgetsnbextension~=3.5.0->ipywidgets<8,>=7.6.0->ipyleaflet>=0.13.3->geemap) (0.9.1)\n",
      "Requirement already satisfied: prometheus-client in c:\\users\\bihte\\anaconda3\\lib\\site-packages (from notebook>=4.4.1->widgetsnbextension~=3.5.0->ipywidgets<8,>=7.6.0->ipyleaflet>=0.13.3->geemap) (0.8.0)\n",
      "Requirement already satisfied: python-dateutil>=2.1 in c:\\users\\bihte\\anaconda3\\lib\\site-packages (from jupyter-client->ipykernel>=4.5.1->ipywidgets<8,>=7.6.0->ipyleaflet>=0.13.3->geemap) (2.8.1)\n",
      "Requirement already satisfied: pywin32>=1.0 in c:\\users\\bihte\\anaconda3\\lib\\site-packages (from jupyter-core->nbformat>=4.2.0->ipywidgets<8,>=7.6.0->ipyleaflet>=0.13.3->geemap) (227)\n",
      "Requirement already satisfied: pywinpty>=0.5 in c:\\users\\bihte\\anaconda3\\lib\\site-packages (from terminado>=0.8.3->notebook>=4.4.1->widgetsnbextension~=3.5.0->ipywidgets<8,>=7.6.0->ipyleaflet>=0.13.3->geemap) (0.5.7)\n",
      "Requirement already satisfied: cffi>=1.0.0 in c:\\users\\bihte\\anaconda3\\lib\\site-packages (from argon2-cffi->notebook>=4.4.1->widgetsnbextension~=3.5.0->ipywidgets<8,>=7.6.0->ipyleaflet>=0.13.3->geemap) (1.14.3)\n",
      "Requirement already satisfied: pycparser in c:\\users\\bihte\\anaconda3\\lib\\site-packages (from cffi>=1.0.0->argon2-cffi->notebook>=4.4.1->widgetsnbextension~=3.5.0->ipywidgets<8,>=7.6.0->ipyleaflet>=0.13.3->geemap) (2.20)\n",
      "Requirement already satisfied: ratelim in c:\\users\\bihte\\anaconda3\\lib\\site-packages (from geocoder->geemap) (0.1.6)\n",
      "Requirement already satisfied: google-cloud-core<2.0dev,>=1.0.3 in c:\\users\\bihte\\anaconda3\\lib\\site-packages (from google-cloud-storage->earthengine-api>=0.1.230->geemap) (1.5.0)\n",
      "Requirement already satisfied: google-resumable-media>=0.3.1 in c:\\users\\bihte\\anaconda3\\lib\\site-packages (from google-cloud-storage->earthengine-api>=0.1.230->geemap) (1.2.0)\n",
      "Requirement already satisfied: google-crc32c<2.0dev,>=1.0 in c:\\users\\bihte\\anaconda3\\lib\\site-packages (from google-resumable-media>=0.3.1->google-cloud-storage->earthengine-api>=0.1.230->geemap) (1.1.0)\n",
      "Requirement already satisfied: cycler>=0.10 in c:\\users\\bihte\\anaconda3\\lib\\site-packages (from matplotlib->geemap) (0.10.0)\n",
      "Requirement already satisfied: pyparsing!=2.0.4,!=2.1.2,!=2.1.6,>=2.0.3 in c:\\users\\bihte\\anaconda3\\lib\\site-packages (from matplotlib->geemap) (2.4.7)\n",
      "Requirement already satisfied: kiwisolver>=1.0.1 in c:\\users\\bihte\\anaconda3\\lib\\site-packages (from matplotlib->geemap) (1.3.0)\n",
      "Requirement already satisfied: mistune<2,>=0.8.1 in c:\\users\\bihte\\anaconda3\\lib\\site-packages (from nbconvert->notebook>=4.4.1->widgetsnbextension~=3.5.0->ipywidgets<8,>=7.6.0->ipyleaflet>=0.13.3->geemap) (0.8.4)\n",
      "Requirement already satisfied: testpath in c:\\users\\bihte\\anaconda3\\lib\\site-packages (from nbconvert->notebook>=4.4.1->widgetsnbextension~=3.5.0->ipywidgets<8,>=7.6.0->ipyleaflet>=0.13.3->geemap) (0.4.4)\n",
      "Requirement already satisfied: pandocfilters>=1.4.1 in c:\\users\\bihte\\anaconda3\\lib\\site-packages (from nbconvert->notebook>=4.4.1->widgetsnbextension~=3.5.0->ipywidgets<8,>=7.6.0->ipyleaflet>=0.13.3->geemap) (1.4.3)\n",
      "Requirement already satisfied: entrypoints>=0.2.2 in c:\\users\\bihte\\anaconda3\\lib\\site-packages (from nbconvert->notebook>=4.4.1->widgetsnbextension~=3.5.0->ipywidgets<8,>=7.6.0->ipyleaflet>=0.13.3->geemap) (0.3)\n",
      "Requirement already satisfied: jupyterlab-pygments in c:\\users\\bihte\\anaconda3\\lib\\site-packages (from nbconvert->notebook>=4.4.1->widgetsnbextension~=3.5.0->ipywidgets<8,>=7.6.0->ipyleaflet>=0.13.3->geemap) (0.1.2)\n",
      "Requirement already satisfied: nbclient<0.6.0,>=0.5.0 in c:\\users\\bihte\\anaconda3\\lib\\site-packages (from nbconvert->notebook>=4.4.1->widgetsnbextension~=3.5.0->ipywidgets<8,>=7.6.0->ipyleaflet>=0.13.3->geemap) (0.5.1)\n",
      "Requirement already satisfied: bleach in c:\\users\\bihte\\anaconda3\\lib\\site-packages (from nbconvert->notebook>=4.4.1->widgetsnbextension~=3.5.0->ipywidgets<8,>=7.6.0->ipyleaflet>=0.13.3->geemap) (3.2.1)\n",
      "Requirement already satisfied: defusedxml in c:\\users\\bihte\\anaconda3\\lib\\site-packages (from nbconvert->notebook>=4.4.1->widgetsnbextension~=3.5.0->ipywidgets<8,>=7.6.0->ipyleaflet>=0.13.3->geemap) (0.6.0)\n",
      "Requirement already satisfied: async-generator in c:\\users\\bihte\\anaconda3\\lib\\site-packages (from nbclient<0.6.0,>=0.5.0->nbconvert->notebook>=4.4.1->widgetsnbextension~=3.5.0->ipywidgets<8,>=7.6.0->ipyleaflet>=0.13.3->geemap) (1.10)\n",
      "Requirement already satisfied: nest-asyncio in c:\\users\\bihte\\anaconda3\\lib\\site-packages (from nbclient<0.6.0,>=0.5.0->nbconvert->notebook>=4.4.1->widgetsnbextension~=3.5.0->ipywidgets<8,>=7.6.0->ipyleaflet>=0.13.3->geemap) (1.4.2)\n",
      "Requirement already satisfied: webencodings in c:\\users\\bihte\\anaconda3\\lib\\site-packages (from bleach->nbconvert->notebook>=4.4.1->widgetsnbextension~=3.5.0->ipywidgets<8,>=7.6.0->ipyleaflet>=0.13.3->geemap) (0.5.1)\n",
      "Requirement already satisfied: packaging in c:\\users\\bihte\\anaconda3\\lib\\site-packages (from bleach->nbconvert->notebook>=4.4.1->widgetsnbextension~=3.5.0->ipywidgets<8,>=7.6.0->ipyleaflet>=0.13.3->geemap) (20.4)\n",
      "Requirement already satisfied: jupyter-server<2.0.0,>=0.3.0 in c:\\users\\bihte\\anaconda3\\lib\\site-packages (from voila->geemap) (1.2.1)\n",
      "Requirement already satisfied: anyio>=2.0.2 in c:\\users\\bihte\\anaconda3\\lib\\site-packages (from jupyter-server<2.0.0,>=0.3.0->voila->geemap) (2.0.2)\n",
      "Requirement already satisfied: sniffio>=1.1 in c:\\users\\bihte\\anaconda3\\lib\\site-packages (from anyio>=2.0.2->jupyter-server<2.0.0,>=0.3.0->voila->geemap) (1.2.0)\n"
     ]
    }
   ],
   "source": [
    "!pip install earthengine-api --upgrade\n",
    "!pip install folium\n",
    "!pip install geehydro\n",
    "!pip install geemap\n",
    "\n",
    "import ee\n",
    "import folium\n",
    "import geehydro\n",
    "import geemap\n",
    "\n",
    "from datetime import datetime as dt\n",
    "from IPython.display import Image"
   ]
  },
  {
   "cell_type": "code",
   "execution_count": 5,
   "metadata": {
    "scrolled": true
   },
   "outputs": [
    {
     "data": {
      "text/html": [
       "<p>To authorize access needed by Earth Engine, open the following\n",
       "        URL in a web browser and follow the instructions:</p>\n",
       "        <p><a href=https://accounts.google.com/o/oauth2/auth?client_id=517222506229-vsmmajv00ul0bs7p89v5m89qs8eb9359.apps.googleusercontent.com&scope=https%3A%2F%2Fwww.googleapis.com%2Fauth%2Fearthengine+https%3A%2F%2Fwww.googleapis.com%2Fauth%2Fdevstorage.full_control&redirect_uri=urn%3Aietf%3Awg%3Aoauth%3A2.0%3Aoob&response_type=code&code_challenge=4YvAFYQgZsA5Py8MeP5Q13NojtWx5CPWMi0bq9uPauQ&code_challenge_method=S256>https://accounts.google.com/o/oauth2/auth?client_id=517222506229-vsmmajv00ul0bs7p89v5m89qs8eb9359.apps.googleusercontent.com&scope=https%3A%2F%2Fwww.googleapis.com%2Fauth%2Fearthengine+https%3A%2F%2Fwww.googleapis.com%2Fauth%2Fdevstorage.full_control&redirect_uri=urn%3Aietf%3Awg%3Aoauth%3A2.0%3Aoob&response_type=code&code_challenge=4YvAFYQgZsA5Py8MeP5Q13NojtWx5CPWMi0bq9uPauQ&code_challenge_method=S256</a></p>\n",
       "        <p>The authorization workflow will generate a code, which you\n",
       "        should paste in the box below</p>\n",
       "        "
      ],
      "text/plain": [
       "<IPython.core.display.HTML object>"
      ]
     },
     "metadata": {},
     "output_type": "display_data"
    },
    {
     "name": "stdout",
     "output_type": "stream",
     "text": [
      "Enter verification code: 4/1AY0e-g4ayxGo226aFconNUf1RMJEYSd1Qlp7CsluFTiPXZUSSeulbl0CvcE\n",
      "\n",
      "Successfully saved authorization token.\n"
     ]
    }
   ],
   "source": [
    "ee.Authenticate()"
   ]
  },
  {
   "cell_type": "code",
   "execution_count": 6,
   "metadata": {},
   "outputs": [],
   "source": [
    "ee.Initialize()"
   ]
  },
  {
   "cell_type": "code",
   "execution_count": 39,
   "metadata": {},
   "outputs": [
    {
     "data": {
      "text/html": [
       "<div style=\"width:100%;\"><div style=\"position:relative;width:100%;height:0;padding-bottom:60%;\"><span style=\"color:#565656\">Make this Notebook Trusted to load map: File -> Trust Notebook</span><iframe src=\"about:blank\" style=\"position:absolute;width:100%;height:100%;left:0;top:0;border:none !important;\" data-html=%3C%21DOCTYPE%20html%3E%0A%3Chead%3E%20%20%20%20%0A%20%20%20%20%3Cmeta%20http-equiv%3D%22content-type%22%20content%3D%22text/html%3B%20charset%3DUTF-8%22%20/%3E%0A%20%20%20%20%0A%20%20%20%20%20%20%20%20%3Cscript%3E%0A%20%20%20%20%20%20%20%20%20%20%20%20L_NO_TOUCH%20%3D%20false%3B%0A%20%20%20%20%20%20%20%20%20%20%20%20L_DISABLE_3D%20%3D%20false%3B%0A%20%20%20%20%20%20%20%20%3C/script%3E%0A%20%20%20%20%0A%20%20%20%20%3Cstyle%3Ehtml%2C%20body%20%7Bwidth%3A%20100%25%3Bheight%3A%20100%25%3Bmargin%3A%200%3Bpadding%3A%200%3B%7D%3C/style%3E%0A%20%20%20%20%3Cstyle%3E%23map%20%7Bposition%3Aabsolute%3Btop%3A0%3Bbottom%3A0%3Bright%3A0%3Bleft%3A0%3B%7D%3C/style%3E%0A%20%20%20%20%3Cscript%20src%3D%22https%3A//cdn.jsdelivr.net/npm/leaflet%401.6.0/dist/leaflet.js%22%3E%3C/script%3E%0A%20%20%20%20%3Cscript%20src%3D%22https%3A//code.jquery.com/jquery-1.12.4.min.js%22%3E%3C/script%3E%0A%20%20%20%20%3Cscript%20src%3D%22https%3A//maxcdn.bootstrapcdn.com/bootstrap/3.2.0/js/bootstrap.min.js%22%3E%3C/script%3E%0A%20%20%20%20%3Cscript%20src%3D%22https%3A//cdnjs.cloudflare.com/ajax/libs/Leaflet.awesome-markers/2.0.2/leaflet.awesome-markers.js%22%3E%3C/script%3E%0A%20%20%20%20%3Clink%20rel%3D%22stylesheet%22%20href%3D%22https%3A//cdn.jsdelivr.net/npm/leaflet%401.6.0/dist/leaflet.css%22/%3E%0A%20%20%20%20%3Clink%20rel%3D%22stylesheet%22%20href%3D%22https%3A//maxcdn.bootstrapcdn.com/bootstrap/3.2.0/css/bootstrap.min.css%22/%3E%0A%20%20%20%20%3Clink%20rel%3D%22stylesheet%22%20href%3D%22https%3A//maxcdn.bootstrapcdn.com/bootstrap/3.2.0/css/bootstrap-theme.min.css%22/%3E%0A%20%20%20%20%3Clink%20rel%3D%22stylesheet%22%20href%3D%22https%3A//maxcdn.bootstrapcdn.com/font-awesome/4.6.3/css/font-awesome.min.css%22/%3E%0A%20%20%20%20%3Clink%20rel%3D%22stylesheet%22%20href%3D%22https%3A//cdnjs.cloudflare.com/ajax/libs/Leaflet.awesome-markers/2.0.2/leaflet.awesome-markers.css%22/%3E%0A%20%20%20%20%3Clink%20rel%3D%22stylesheet%22%20href%3D%22https%3A//cdn.jsdelivr.net/gh/python-visualization/folium/folium/templates/leaflet.awesome.rotate.min.css%22/%3E%0A%20%20%20%20%0A%20%20%20%20%20%20%20%20%20%20%20%20%3Cmeta%20name%3D%22viewport%22%20content%3D%22width%3Ddevice-width%2C%0A%20%20%20%20%20%20%20%20%20%20%20%20%20%20%20%20initial-scale%3D1.0%2C%20maximum-scale%3D1.0%2C%20user-scalable%3Dno%22%20/%3E%0A%20%20%20%20%20%20%20%20%20%20%20%20%3Cstyle%3E%0A%20%20%20%20%20%20%20%20%20%20%20%20%20%20%20%20%23map_4908634fd81b4bf990894aee2841caeb%20%7B%0A%20%20%20%20%20%20%20%20%20%20%20%20%20%20%20%20%20%20%20%20position%3A%20relative%3B%0A%20%20%20%20%20%20%20%20%20%20%20%20%20%20%20%20%20%20%20%20width%3A%20100.0%25%3B%0A%20%20%20%20%20%20%20%20%20%20%20%20%20%20%20%20%20%20%20%20height%3A%20100.0%25%3B%0A%20%20%20%20%20%20%20%20%20%20%20%20%20%20%20%20%20%20%20%20left%3A%200.0%25%3B%0A%20%20%20%20%20%20%20%20%20%20%20%20%20%20%20%20%20%20%20%20top%3A%200.0%25%3B%0A%20%20%20%20%20%20%20%20%20%20%20%20%20%20%20%20%7D%0A%20%20%20%20%20%20%20%20%20%20%20%20%3C/style%3E%0A%20%20%20%20%20%20%20%20%0A%3C/head%3E%0A%3Cbody%3E%20%20%20%20%0A%20%20%20%20%0A%20%20%20%20%20%20%20%20%20%20%20%20%3Cdiv%20class%3D%22folium-map%22%20id%3D%22map_4908634fd81b4bf990894aee2841caeb%22%20%3E%3C/div%3E%0A%20%20%20%20%20%20%20%20%0A%3C/body%3E%0A%3Cscript%3E%20%20%20%20%0A%20%20%20%20%0A%20%20%20%20%20%20%20%20%20%20%20%20var%20map_4908634fd81b4bf990894aee2841caeb%20%3D%20L.map%28%0A%20%20%20%20%20%20%20%20%20%20%20%20%20%20%20%20%22map_4908634fd81b4bf990894aee2841caeb%22%2C%0A%20%20%20%20%20%20%20%20%20%20%20%20%20%20%20%20%7B%0A%20%20%20%20%20%20%20%20%20%20%20%20%20%20%20%20%20%20%20%20center%3A%20%5B41.100618%2C%2029.024453%5D%2C%0A%20%20%20%20%20%20%20%20%20%20%20%20%20%20%20%20%20%20%20%20crs%3A%20L.CRS.EPSG3857%2C%0A%20%20%20%20%20%20%20%20%20%20%20%20%20%20%20%20%20%20%20%20zoom%3A%2015%2C%0A%20%20%20%20%20%20%20%20%20%20%20%20%20%20%20%20%20%20%20%20zoomControl%3A%20true%2C%0A%20%20%20%20%20%20%20%20%20%20%20%20%20%20%20%20%20%20%20%20preferCanvas%3A%20false%2C%0A%20%20%20%20%20%20%20%20%20%20%20%20%20%20%20%20%7D%0A%20%20%20%20%20%20%20%20%20%20%20%20%29%3B%0A%0A%20%20%20%20%20%20%20%20%20%20%20%20%0A%0A%20%20%20%20%20%20%20%20%0A%20%20%20%20%0A%20%20%20%20%20%20%20%20%20%20%20%20var%20tile_layer_80daeb58ea574b3eb4d8a6aa173ab1a0%20%3D%20L.tileLayer%28%0A%20%20%20%20%20%20%20%20%20%20%20%20%20%20%20%20%22https%3A//%7Bs%7D.tile.openstreetmap.org/%7Bz%7D/%7Bx%7D/%7By%7D.png%22%2C%0A%20%20%20%20%20%20%20%20%20%20%20%20%20%20%20%20%7B%22attribution%22%3A%20%22Data%20by%20%5Cu0026copy%3B%20%5Cu003ca%20href%3D%5C%22http%3A//openstreetmap.org%5C%22%5Cu003eOpenStreetMap%5Cu003c/a%5Cu003e%2C%20under%20%5Cu003ca%20href%3D%5C%22http%3A//www.openstreetmap.org/copyright%5C%22%5Cu003eODbL%5Cu003c/a%5Cu003e.%22%2C%20%22detectRetina%22%3A%20false%2C%20%22maxNativeZoom%22%3A%2018%2C%20%22maxZoom%22%3A%2018%2C%20%22minZoom%22%3A%200%2C%20%22noWrap%22%3A%20false%2C%20%22opacity%22%3A%201%2C%20%22subdomains%22%3A%20%22abc%22%2C%20%22tms%22%3A%20false%7D%0A%20%20%20%20%20%20%20%20%20%20%20%20%29.addTo%28map_4908634fd81b4bf990894aee2841caeb%29%3B%0A%20%20%20%20%20%20%20%20%0A%3C/script%3E onload=\"this.contentDocument.open();this.contentDocument.write(    decodeURIComponent(this.getAttribute('data-html')));this.contentDocument.close();\" allowfullscreen webkitallowfullscreen mozallowfullscreen></iframe></div></div>"
      ],
      "text/plain": [
       "<folium.folium.Map at 0x1db0c192340>"
      ]
     },
     "execution_count": 39,
     "metadata": {},
     "output_type": "execute_result"
    }
   ],
   "source": [
    "Ituna_map = folium.Map(location=[41.100618, 29.024453], zoom_start=15)\n",
    "Ituna_map"
   ]
  },
  {
   "cell_type": "code",
   "execution_count": 40,
   "metadata": {},
   "outputs": [],
   "source": [
    "landsat = ee.ImageCollection(\"LANDSAT/LC08/C01/T1_SR\")\n",
    "Ituna_AOI = ee.Geometry.Rectangle([41.0, 29.0,\n",
    "                                   41.5, 29.5])"
   ]
  },
  {
   "cell_type": "code",
   "execution_count": 41,
   "metadata": {},
   "outputs": [],
   "source": [
    "landsat_AOI = landsat.filterBounds(Ituna_AOI)"
   ]
  },
  {
   "cell_type": "code",
   "execution_count": 42,
   "metadata": {},
   "outputs": [],
   "source": [
    "landsat = landsat.filterDate('2020-05-01','2021-01-01')"
   ]
  },
  {
   "cell_type": "code",
   "execution_count": 43,
   "metadata": {},
   "outputs": [],
   "source": [
    "least_cloudy = ee.Image(landsat_AOI.sort('CLOUD_COVER').first())"
   ]
  },
  {
   "cell_type": "code",
   "execution_count": 44,
   "metadata": {},
   "outputs": [],
   "source": [
    "date = ee.Date(least_cloudy.get('system:time_start'))"
   ]
  },
  {
   "cell_type": "code",
   "execution_count": 45,
   "metadata": {},
   "outputs": [
    {
     "data": {
      "text/html": [
       "<div style=\"width:100%;\"><div style=\"position:relative;width:100%;height:0;padding-bottom:60%;\"><span style=\"color:#565656\">Make this Notebook Trusted to load map: File -> Trust Notebook</span><iframe src=\"about:blank\" style=\"position:absolute;width:100%;height:100%;left:0;top:0;border:none !important;\" data-html=%3C%21DOCTYPE%20html%3E%0A%3Chead%3E%20%20%20%20%0A%20%20%20%20%3Cmeta%20http-equiv%3D%22content-type%22%20content%3D%22text/html%3B%20charset%3DUTF-8%22%20/%3E%0A%20%20%20%20%0A%20%20%20%20%20%20%20%20%3Cscript%3E%0A%20%20%20%20%20%20%20%20%20%20%20%20L_NO_TOUCH%20%3D%20false%3B%0A%20%20%20%20%20%20%20%20%20%20%20%20L_DISABLE_3D%20%3D%20false%3B%0A%20%20%20%20%20%20%20%20%3C/script%3E%0A%20%20%20%20%0A%20%20%20%20%3Cstyle%3Ehtml%2C%20body%20%7Bwidth%3A%20100%25%3Bheight%3A%20100%25%3Bmargin%3A%200%3Bpadding%3A%200%3B%7D%3C/style%3E%0A%20%20%20%20%3Cstyle%3E%23map%20%7Bposition%3Aabsolute%3Btop%3A0%3Bbottom%3A0%3Bright%3A0%3Bleft%3A0%3B%7D%3C/style%3E%0A%20%20%20%20%3Cscript%20src%3D%22https%3A//cdn.jsdelivr.net/npm/leaflet%401.6.0/dist/leaflet.js%22%3E%3C/script%3E%0A%20%20%20%20%3Cscript%20src%3D%22https%3A//code.jquery.com/jquery-1.12.4.min.js%22%3E%3C/script%3E%0A%20%20%20%20%3Cscript%20src%3D%22https%3A//maxcdn.bootstrapcdn.com/bootstrap/3.2.0/js/bootstrap.min.js%22%3E%3C/script%3E%0A%20%20%20%20%3Cscript%20src%3D%22https%3A//cdnjs.cloudflare.com/ajax/libs/Leaflet.awesome-markers/2.0.2/leaflet.awesome-markers.js%22%3E%3C/script%3E%0A%20%20%20%20%3Clink%20rel%3D%22stylesheet%22%20href%3D%22https%3A//cdn.jsdelivr.net/npm/leaflet%401.6.0/dist/leaflet.css%22/%3E%0A%20%20%20%20%3Clink%20rel%3D%22stylesheet%22%20href%3D%22https%3A//maxcdn.bootstrapcdn.com/bootstrap/3.2.0/css/bootstrap.min.css%22/%3E%0A%20%20%20%20%3Clink%20rel%3D%22stylesheet%22%20href%3D%22https%3A//maxcdn.bootstrapcdn.com/bootstrap/3.2.0/css/bootstrap-theme.min.css%22/%3E%0A%20%20%20%20%3Clink%20rel%3D%22stylesheet%22%20href%3D%22https%3A//maxcdn.bootstrapcdn.com/font-awesome/4.6.3/css/font-awesome.min.css%22/%3E%0A%20%20%20%20%3Clink%20rel%3D%22stylesheet%22%20href%3D%22https%3A//cdnjs.cloudflare.com/ajax/libs/Leaflet.awesome-markers/2.0.2/leaflet.awesome-markers.css%22/%3E%0A%20%20%20%20%3Clink%20rel%3D%22stylesheet%22%20href%3D%22https%3A//cdn.jsdelivr.net/gh/python-visualization/folium/folium/templates/leaflet.awesome.rotate.min.css%22/%3E%0A%20%20%20%20%0A%20%20%20%20%20%20%20%20%20%20%20%20%3Cmeta%20name%3D%22viewport%22%20content%3D%22width%3Ddevice-width%2C%0A%20%20%20%20%20%20%20%20%20%20%20%20%20%20%20%20initial-scale%3D1.0%2C%20maximum-scale%3D1.0%2C%20user-scalable%3Dno%22%20/%3E%0A%20%20%20%20%20%20%20%20%20%20%20%20%3Cstyle%3E%0A%20%20%20%20%20%20%20%20%20%20%20%20%20%20%20%20%23map_4908634fd81b4bf990894aee2841caeb%20%7B%0A%20%20%20%20%20%20%20%20%20%20%20%20%20%20%20%20%20%20%20%20position%3A%20relative%3B%0A%20%20%20%20%20%20%20%20%20%20%20%20%20%20%20%20%20%20%20%20width%3A%20100.0%25%3B%0A%20%20%20%20%20%20%20%20%20%20%20%20%20%20%20%20%20%20%20%20height%3A%20100.0%25%3B%0A%20%20%20%20%20%20%20%20%20%20%20%20%20%20%20%20%20%20%20%20left%3A%200.0%25%3B%0A%20%20%20%20%20%20%20%20%20%20%20%20%20%20%20%20%20%20%20%20top%3A%200.0%25%3B%0A%20%20%20%20%20%20%20%20%20%20%20%20%20%20%20%20%7D%0A%20%20%20%20%20%20%20%20%20%20%20%20%3C/style%3E%0A%20%20%20%20%20%20%20%20%0A%3C/head%3E%0A%3Cbody%3E%20%20%20%20%0A%20%20%20%20%0A%20%20%20%20%20%20%20%20%20%20%20%20%3Cdiv%20class%3D%22folium-map%22%20id%3D%22map_4908634fd81b4bf990894aee2841caeb%22%20%3E%3C/div%3E%0A%20%20%20%20%20%20%20%20%0A%3C/body%3E%0A%3Cscript%3E%20%20%20%20%0A%20%20%20%20%0A%20%20%20%20%20%20%20%20%20%20%20%20var%20map_4908634fd81b4bf990894aee2841caeb%20%3D%20L.map%28%0A%20%20%20%20%20%20%20%20%20%20%20%20%20%20%20%20%22map_4908634fd81b4bf990894aee2841caeb%22%2C%0A%20%20%20%20%20%20%20%20%20%20%20%20%20%20%20%20%7B%0A%20%20%20%20%20%20%20%20%20%20%20%20%20%20%20%20%20%20%20%20center%3A%20%5B41.100618%2C%2029.024453%5D%2C%0A%20%20%20%20%20%20%20%20%20%20%20%20%20%20%20%20%20%20%20%20crs%3A%20L.CRS.EPSG3857%2C%0A%20%20%20%20%20%20%20%20%20%20%20%20%20%20%20%20%20%20%20%20zoom%3A%2015%2C%0A%20%20%20%20%20%20%20%20%20%20%20%20%20%20%20%20%20%20%20%20zoomControl%3A%20true%2C%0A%20%20%20%20%20%20%20%20%20%20%20%20%20%20%20%20%20%20%20%20preferCanvas%3A%20false%2C%0A%20%20%20%20%20%20%20%20%20%20%20%20%20%20%20%20%7D%0A%20%20%20%20%20%20%20%20%20%20%20%20%29%3B%0A%0A%20%20%20%20%20%20%20%20%20%20%20%20%0A%0A%20%20%20%20%20%20%20%20%0A%20%20%20%20%0A%20%20%20%20%20%20%20%20%20%20%20%20var%20tile_layer_80daeb58ea574b3eb4d8a6aa173ab1a0%20%3D%20L.tileLayer%28%0A%20%20%20%20%20%20%20%20%20%20%20%20%20%20%20%20%22https%3A//%7Bs%7D.tile.openstreetmap.org/%7Bz%7D/%7Bx%7D/%7By%7D.png%22%2C%0A%20%20%20%20%20%20%20%20%20%20%20%20%20%20%20%20%7B%22attribution%22%3A%20%22Data%20by%20%5Cu0026copy%3B%20%5Cu003ca%20href%3D%5C%22http%3A//openstreetmap.org%5C%22%5Cu003eOpenStreetMap%5Cu003c/a%5Cu003e%2C%20under%20%5Cu003ca%20href%3D%5C%22http%3A//www.openstreetmap.org/copyright%5C%22%5Cu003eODbL%5Cu003c/a%5Cu003e.%22%2C%20%22detectRetina%22%3A%20false%2C%20%22maxNativeZoom%22%3A%2018%2C%20%22maxZoom%22%3A%2018%2C%20%22minZoom%22%3A%200%2C%20%22noWrap%22%3A%20false%2C%20%22opacity%22%3A%201%2C%20%22subdomains%22%3A%20%22abc%22%2C%20%22tms%22%3A%20false%7D%0A%20%20%20%20%20%20%20%20%20%20%20%20%29.addTo%28map_4908634fd81b4bf990894aee2841caeb%29%3B%0A%20%20%20%20%20%20%20%20%0A%20%20%20%20%0A%20%20%20%20%20%20%20%20%20%20%20%20var%20tile_layer_8041ba8063664555b5da59603ce32835%20%3D%20L.tileLayer%28%0A%20%20%20%20%20%20%20%20%20%20%20%20%20%20%20%20%22https%3A//earthengine.googleapis.com/v1alpha/projects/earthengine-legacy/maps/e1152325997d6c02dd9c91dbd30d8df5-1571fa6dd3da175b9b9e77d31d01305d/tiles/%7Bz%7D/%7Bx%7D/%7By%7D%22%2C%0A%20%20%20%20%20%20%20%20%20%20%20%20%20%20%20%20%7B%22attribution%22%3A%20%22Google%20Earth%20Engine%22%2C%20%22detectRetina%22%3A%20false%2C%20%22maxNativeZoom%22%3A%2018%2C%20%22maxZoom%22%3A%2018%2C%20%22minZoom%22%3A%200%2C%20%22noWrap%22%3A%20false%2C%20%22opacity%22%3A%201%2C%20%22subdomains%22%3A%20%22abc%22%2C%20%22tms%22%3A%20false%7D%0A%20%20%20%20%20%20%20%20%20%20%20%20%29.addTo%28map_4908634fd81b4bf990894aee2841caeb%29%3B%0A%20%20%20%20%20%20%20%20%0A%3C/script%3E onload=\"this.contentDocument.open();this.contentDocument.write(    decodeURIComponent(this.getAttribute('data-html')));this.contentDocument.close();\" allowfullscreen webkitallowfullscreen mozallowfullscreen></iframe></div></div>"
      ],
      "text/plain": [
       "<folium.folium.Map at 0x1db0c192340>"
      ]
     },
     "execution_count": 45,
     "metadata": {},
     "output_type": "execute_result"
    }
   ],
   "source": [
    "ndvi = least_cloudy.normalizedDifference(['B5', 'B4'])\n",
    "\n",
    "ndvi_parameters = {'min': 0,\n",
    "                   'max': 1,\n",
    "                   'dimensions': 512,\n",
    "                   'palette': palette,\n",
    "                   'region': Ituna_AOI}\n",
    "\n",
    "Ituna_map.addLayer(ndvi)\n",
    "Ituna_map"
   ]
  },
  {
   "cell_type": "code",
   "execution_count": null,
   "metadata": {},
   "outputs": [],
   "source": []
  }
 ],
 "metadata": {
  "kernelspec": {
   "display_name": "Python 3",
   "language": "python",
   "name": "python3"
  },
  "language_info": {
   "codemirror_mode": {
    "name": "ipython",
    "version": 3
   },
   "file_extension": ".py",
   "mimetype": "text/x-python",
   "name": "python",
   "nbconvert_exporter": "python",
   "pygments_lexer": "ipython3",
   "version": "3.8.5"
  }
 },
 "nbformat": 4,
 "nbformat_minor": 4
}
