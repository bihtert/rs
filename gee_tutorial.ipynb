{
 "cells": [
  {
   "cell_type": "code",
   "execution_count": 1,
   "metadata": {},
   "outputs": [
    {
     "name": "stdout",
     "output_type": "stream",
     "text": [
      "Requirement already satisfied: geemap in c:\\users\\bihte\\anaconda3\\lib\\site-packages (0.8.7)\n",
      "Requirement already satisfied: geocoder in c:\\users\\bihte\\anaconda3\\lib\\site-packages (from geemap) (1.38.1)\n",
      "Requirement already satisfied: matplotlib in c:\\users\\bihte\\anaconda3\\lib\\site-packages (from geemap) (3.3.2)\n",
      "Requirement already satisfied: voila in c:\\users\\bihte\\anaconda3\\lib\\site-packages (from geemap) (0.2.6)\n",
      "Requirement already satisfied: earthengine-api>=0.1.230 in c:\\users\\bihte\\anaconda3\\lib\\site-packages (from geemap) (0.1.247)\n",
      "Requirement already satisfied: geeadd>=0.5.1 in c:\\users\\bihte\\anaconda3\\lib\\site-packages (from geemap) (0.5.3)\n",
      "Requirement already satisfied: folium>=0.11.0 in c:\\users\\bihte\\anaconda3\\lib\\site-packages (from geemap) (0.12.0)\n",
      "Requirement already satisfied: click in c:\\users\\bihte\\anaconda3\\lib\\site-packages (from geemap) (7.1.2)\n",
      "Requirement already satisfied: colour in c:\\users\\bihte\\anaconda3\\lib\\site-packages (from geemap) (0.1.5)\n",
      "Requirement already satisfied: ffmpeg-python in c:\\users\\bihte\\anaconda3\\lib\\site-packages (from geemap) (0.2.0)\n",
      "Requirement already satisfied: pillow in c:\\users\\bihte\\anaconda3\\lib\\site-packages (from geemap) (8.0.1)\n",
      "Requirement already satisfied: bqplot in c:\\users\\bihte\\anaconda3\\lib\\site-packages (from geemap) (0.12.20)\n",
      "Requirement already satisfied: ipynb-py-convert in c:\\users\\bihte\\anaconda3\\lib\\site-packages (from geemap) (0.4.6)\n",
      "Requirement already satisfied: ipyleaflet>=0.13.3 in c:\\users\\bihte\\anaconda3\\lib\\site-packages (from geemap) (0.13.6)\n",
      "Requirement already satisfied: whitebox in c:\\users\\bihte\\anaconda3\\lib\\site-packages (from geemap) (1.4.0)\n",
      "Requirement already satisfied: ipytree in c:\\users\\bihte\\anaconda3\\lib\\site-packages (from geemap) (0.1.8)\n",
      "Requirement already satisfied: pyshp in c:\\users\\bihte\\anaconda3\\lib\\site-packages (from geemap) (2.1.2)\n",
      "Requirement already satisfied: ipyfilechooser in c:\\users\\bihte\\anaconda3\\lib\\site-packages (from geemap) (0.4.1)\n",
      "Requirement already satisfied: pandas in c:\\users\\bihte\\anaconda3\\lib\\site-packages (from geemap) (1.1.3)\n",
      "Requirement already satisfied: ipyevents in c:\\users\\bihte\\anaconda3\\lib\\site-packages (from geemap) (0.8.1)\n",
      "Requirement already satisfied: mss in c:\\users\\bihte\\anaconda3\\lib\\site-packages (from geemap) (6.1.0)\n",
      "Requirement already satisfied: numpy in c:\\users\\bihte\\anaconda3\\lib\\site-packages (from geemap) (1.19.2)\n",
      "Requirement already satisfied: six in c:\\users\\bihte\\anaconda3\\lib\\site-packages (from earthengine-api>=0.1.230->geemap) (1.15.0)\n",
      "Requirement already satisfied: google-cloud-storage in c:\\users\\bihte\\anaconda3\\lib\\site-packages (from earthengine-api>=0.1.230->geemap) (1.19.0)\n",
      "Requirement already satisfied: httplib2<1dev,>=0.9.2 in c:\\users\\bihte\\anaconda3\\lib\\site-packages (from earthengine-api>=0.1.230->geemap) (0.18.1)\n",
      "Requirement already satisfied: google-auth-httplib2>=0.0.3 in c:\\users\\bihte\\anaconda3\\lib\\site-packages (from earthengine-api>=0.1.230->geemap) (0.0.4)\n",
      "Requirement already satisfied: google-api-python-client>=1.12.1 in c:\\users\\bihte\\anaconda3\\lib\\site-packages (from earthengine-api>=0.1.230->geemap) (1.12.8)\n",
      "Requirement already satisfied: httplib2shim in c:\\users\\bihte\\anaconda3\\lib\\site-packages (from earthengine-api>=0.1.230->geemap) (0.0.3)\n",
      "Requirement already satisfied: google-auth>=1.4.1 in c:\\users\\bihte\\anaconda3\\lib\\site-packages (from earthengine-api>=0.1.230->geemap) (1.24.0)\n",
      "Requirement already satisfied: future in c:\\users\\bihte\\anaconda3\\lib\\site-packages (from earthengine-api>=0.1.230->geemap) (0.18.2)\n",
      "Requirement already satisfied: jinja2>=2.9 in c:\\users\\bihte\\anaconda3\\lib\\site-packages (from folium>=0.11.0->geemap) (2.11.2)\n",
      "Requirement already satisfied: branca>=0.3.0 in c:\\users\\bihte\\anaconda3\\lib\\site-packages (from folium>=0.11.0->geemap) (0.4.2)\n",
      "Requirement already satisfied: requests in c:\\users\\bihte\\anaconda3\\lib\\site-packages (from folium>=0.11.0->geemap) (2.24.0)\n",
      "Requirement already satisfied: logzero>=1.5.0 in c:\\users\\bihte\\anaconda3\\lib\\site-packages (from geeadd>=0.5.1->geemap) (1.6.3)\n",
      "Requirement already satisfied: beautifulsoup4>=4.9.0 in c:\\users\\bihte\\anaconda3\\lib\\site-packages (from geeadd>=0.5.1->geemap) (4.9.3)\n",
      "Requirement already satisfied: soupsieve>1.2 in c:\\users\\bihte\\anaconda3\\lib\\site-packages (from beautifulsoup4>=4.9.0->geeadd>=0.5.1->geemap) (2.0.1)\n",
      "Requirement already satisfied: uritemplate<4dev,>=3.0.0 in c:\\users\\bihte\\anaconda3\\lib\\site-packages (from google-api-python-client>=1.12.1->earthengine-api>=0.1.230->geemap) (3.0.1)\n",
      "Requirement already satisfied: google-api-core<2dev,>=1.21.0 in c:\\users\\bihte\\anaconda3\\lib\\site-packages (from google-api-python-client>=1.12.1->earthengine-api>=0.1.230->geemap) (1.22.2)\n",
      "Requirement already satisfied: googleapis-common-protos<2.0dev,>=1.6.0 in c:\\users\\bihte\\anaconda3\\lib\\site-packages (from google-api-core<2dev,>=1.21.0->google-api-python-client>=1.12.1->earthengine-api>=0.1.230->geemap) (1.52.0)\n",
      "Requirement already satisfied: protobuf>=3.12.0 in c:\\users\\bihte\\anaconda3\\lib\\site-packages (from google-api-core<2dev,>=1.21.0->google-api-python-client>=1.12.1->earthengine-api>=0.1.230->geemap) (3.14.0)\n",
      "Requirement already satisfied: setuptools>=34.0.0 in c:\\users\\bihte\\anaconda3\\lib\\site-packages (from google-api-core<2dev,>=1.21.0->google-api-python-client>=1.12.1->earthengine-api>=0.1.230->geemap) (50.3.1.post20201107)\n",
      "Requirement already satisfied: pytz in c:\\users\\bihte\\anaconda3\\lib\\site-packages (from google-api-core<2dev,>=1.21.0->google-api-python-client>=1.12.1->earthengine-api>=0.1.230->geemap) (2020.1)\n",
      "Requirement already satisfied: cachetools<5.0,>=2.0.0 in c:\\users\\bihte\\anaconda3\\lib\\site-packages (from google-auth>=1.4.1->earthengine-api>=0.1.230->geemap) (4.1.1)\n",
      "Requirement already satisfied: rsa<5,>=3.1.4 in c:\\users\\bihte\\anaconda3\\lib\\site-packages (from google-auth>=1.4.1->earthengine-api>=0.1.230->geemap) (4.7)\n",
      "Requirement already satisfied: pyasn1-modules>=0.2.1 in c:\\users\\bihte\\anaconda3\\lib\\site-packages (from google-auth>=1.4.1->earthengine-api>=0.1.230->geemap) (0.2.7)\n",
      "Requirement already satisfied: traittypes<3,>=0.2.1 in c:\\users\\bihte\\anaconda3\\lib\\site-packages (from ipyleaflet>=0.13.3->geemap) (0.2.1)\n",
      "Requirement already satisfied: shapely in c:\\users\\bihte\\anaconda3\\lib\\site-packages (from ipyleaflet>=0.13.3->geemap) (1.7.1)\n",
      "Requirement already satisfied: ipywidgets<8,>=7.6.0 in c:\\users\\bihte\\anaconda3\\lib\\site-packages (from ipyleaflet>=0.13.3->geemap) (7.6.3)\n",
      "Requirement already satisfied: jupyterlab-widgets>=1.0.0 in c:\\users\\bihte\\anaconda3\\lib\\site-packages (from ipywidgets<8,>=7.6.0->ipyleaflet>=0.13.3->geemap) (1.0.0)\n",
      "Requirement already satisfied: widgetsnbextension~=3.5.0 in c:\\users\\bihte\\anaconda3\\lib\\site-packages (from ipywidgets<8,>=7.6.0->ipyleaflet>=0.13.3->geemap) (3.5.1)\n",
      "Requirement already satisfied: traitlets>=4.3.1 in c:\\users\\bihte\\anaconda3\\lib\\site-packages (from ipywidgets<8,>=7.6.0->ipyleaflet>=0.13.3->geemap) (5.0.5)\n",
      "Requirement already satisfied: ipykernel>=4.5.1 in c:\\users\\bihte\\anaconda3\\lib\\site-packages (from ipywidgets<8,>=7.6.0->ipyleaflet>=0.13.3->geemap) (5.3.4)\n",
      "Requirement already satisfied: ipython>=4.0.0 in c:\\users\\bihte\\anaconda3\\lib\\site-packages (from ipywidgets<8,>=7.6.0->ipyleaflet>=0.13.3->geemap) (7.19.0)\n",
      "Requirement already satisfied: nbformat>=4.2.0 in c:\\users\\bihte\\anaconda3\\lib\\site-packages (from ipywidgets<8,>=7.6.0->ipyleaflet>=0.13.3->geemap) (5.0.8)\n",
      "Requirement already satisfied: jupyter-client in c:\\users\\bihte\\anaconda3\\lib\\site-packages (from ipykernel>=4.5.1->ipywidgets<8,>=7.6.0->ipyleaflet>=0.13.3->geemap) (6.1.7)\n",
      "Requirement already satisfied: tornado>=4.2 in c:\\users\\bihte\\anaconda3\\lib\\site-packages (from ipykernel>=4.5.1->ipywidgets<8,>=7.6.0->ipyleaflet>=0.13.3->geemap) (6.1)\n",
      "Requirement already satisfied: pickleshare in c:\\users\\bihte\\anaconda3\\lib\\site-packages (from ipython>=4.0.0->ipywidgets<8,>=7.6.0->ipyleaflet>=0.13.3->geemap) (0.7.5)\n",
      "Requirement already satisfied: backcall in c:\\users\\bihte\\anaconda3\\lib\\site-packages (from ipython>=4.0.0->ipywidgets<8,>=7.6.0->ipyleaflet>=0.13.3->geemap) (0.2.0)\n",
      "Requirement already satisfied: jedi>=0.10 in c:\\users\\bihte\\anaconda3\\lib\\site-packages (from ipython>=4.0.0->ipywidgets<8,>=7.6.0->ipyleaflet>=0.13.3->geemap) (0.17.1)\n",
      "Requirement already satisfied: pygments in c:\\users\\bihte\\anaconda3\\lib\\site-packages (from ipython>=4.0.0->ipywidgets<8,>=7.6.0->ipyleaflet>=0.13.3->geemap) (2.7.2)\n",
      "Requirement already satisfied: prompt-toolkit!=3.0.0,!=3.0.1,<3.1.0,>=2.0.0 in c:\\users\\bihte\\anaconda3\\lib\\site-packages (from ipython>=4.0.0->ipywidgets<8,>=7.6.0->ipyleaflet>=0.13.3->geemap) (3.0.8)\n",
      "Requirement already satisfied: colorama in c:\\users\\bihte\\anaconda3\\lib\\site-packages (from ipython>=4.0.0->ipywidgets<8,>=7.6.0->ipyleaflet>=0.13.3->geemap) (0.4.4)\n",
      "Requirement already satisfied: decorator in c:\\users\\bihte\\anaconda3\\lib\\site-packages (from ipython>=4.0.0->ipywidgets<8,>=7.6.0->ipyleaflet>=0.13.3->geemap) (4.4.2)\n",
      "Requirement already satisfied: parso<0.8.0,>=0.7.0 in c:\\users\\bihte\\anaconda3\\lib\\site-packages (from jedi>=0.10->ipython>=4.0.0->ipywidgets<8,>=7.6.0->ipyleaflet>=0.13.3->geemap) (0.7.0)\n",
      "Requirement already satisfied: MarkupSafe>=0.23 in c:\\users\\bihte\\anaconda3\\lib\\site-packages (from jinja2>=2.9->folium>=0.11.0->geemap) (1.1.1)\n",
      "Requirement already satisfied: ipython-genutils in c:\\users\\bihte\\anaconda3\\lib\\site-packages (from nbformat>=4.2.0->ipywidgets<8,>=7.6.0->ipyleaflet>=0.13.3->geemap) (0.2.0)\n",
      "Requirement already satisfied: jsonschema!=2.5.0,>=2.4 in c:\\users\\bihte\\anaconda3\\lib\\site-packages (from nbformat>=4.2.0->ipywidgets<8,>=7.6.0->ipyleaflet>=0.13.3->geemap) (3.2.0)\n",
      "Requirement already satisfied: jupyter-core in c:\\users\\bihte\\anaconda3\\lib\\site-packages (from nbformat>=4.2.0->ipywidgets<8,>=7.6.0->ipyleaflet>=0.13.3->geemap) (4.6.3)\n",
      "Requirement already satisfied: pyrsistent>=0.14.0 in c:\\users\\bihte\\anaconda3\\lib\\site-packages (from jsonschema!=2.5.0,>=2.4->nbformat>=4.2.0->ipywidgets<8,>=7.6.0->ipyleaflet>=0.13.3->geemap) (0.17.3)\n",
      "Requirement already satisfied: attrs>=17.4.0 in c:\\users\\bihte\\anaconda3\\lib\\site-packages (from jsonschema!=2.5.0,>=2.4->nbformat>=4.2.0->ipywidgets<8,>=7.6.0->ipyleaflet>=0.13.3->geemap) (20.3.0)\n",
      "Requirement already satisfied: wcwidth in c:\\users\\bihte\\anaconda3\\lib\\site-packages (from prompt-toolkit!=3.0.0,!=3.0.1,<3.1.0,>=2.0.0->ipython>=4.0.0->ipywidgets<8,>=7.6.0->ipyleaflet>=0.13.3->geemap) (0.2.5)\n",
      "Requirement already satisfied: pyasn1<0.5.0,>=0.4.6 in c:\\users\\bihte\\anaconda3\\lib\\site-packages (from pyasn1-modules>=0.2.1->google-auth>=1.4.1->earthengine-api>=0.1.230->geemap) (0.4.8)\n"
     ]
    },
    {
     "name": "stdout",
     "output_type": "stream",
     "text": [
      "Requirement already satisfied: idna<3,>=2.5 in c:\\users\\bihte\\anaconda3\\lib\\site-packages (from requests->folium>=0.11.0->geemap) (2.10)\n",
      "Requirement already satisfied: chardet<4,>=3.0.2 in c:\\users\\bihte\\anaconda3\\lib\\site-packages (from requests->folium>=0.11.0->geemap) (3.0.4)\n",
      "Requirement already satisfied: certifi>=2017.4.17 in c:\\users\\bihte\\anaconda3\\lib\\site-packages (from requests->folium>=0.11.0->geemap) (2020.12.5)\n",
      "Requirement already satisfied: urllib3!=1.25.0,!=1.25.1,<1.26,>=1.21.1 in c:\\users\\bihte\\anaconda3\\lib\\site-packages (from requests->folium>=0.11.0->geemap) (1.25.11)\n",
      "Requirement already satisfied: notebook>=4.4.1 in c:\\users\\bihte\\anaconda3\\lib\\site-packages (from widgetsnbextension~=3.5.0->ipywidgets<8,>=7.6.0->ipyleaflet>=0.13.3->geemap) (6.1.6)\n",
      "Requirement already satisfied: nbconvert in c:\\users\\bihte\\anaconda3\\lib\\site-packages (from notebook>=4.4.1->widgetsnbextension~=3.5.0->ipywidgets<8,>=7.6.0->ipyleaflet>=0.13.3->geemap) (6.0.7)\n",
      "Requirement already satisfied: terminado>=0.8.3 in c:\\users\\bihte\\anaconda3\\lib\\site-packages (from notebook>=4.4.1->widgetsnbextension~=3.5.0->ipywidgets<8,>=7.6.0->ipyleaflet>=0.13.3->geemap) (0.9.1)\n",
      "Requirement already satisfied: argon2-cffi in c:\\users\\bihte\\anaconda3\\lib\\site-packages (from notebook>=4.4.1->widgetsnbextension~=3.5.0->ipywidgets<8,>=7.6.0->ipyleaflet>=0.13.3->geemap) (20.1.0)\n",
      "Requirement already satisfied: Send2Trash in c:\\users\\bihte\\anaconda3\\lib\\site-packages (from notebook>=4.4.1->widgetsnbextension~=3.5.0->ipywidgets<8,>=7.6.0->ipyleaflet>=0.13.3->geemap) (1.5.0)\n",
      "Requirement already satisfied: prometheus-client in c:\\users\\bihte\\anaconda3\\lib\\site-packages (from notebook>=4.4.1->widgetsnbextension~=3.5.0->ipywidgets<8,>=7.6.0->ipyleaflet>=0.13.3->geemap) (0.8.0)\n",
      "Requirement already satisfied: pyzmq>=17 in c:\\users\\bihte\\anaconda3\\lib\\site-packages (from notebook>=4.4.1->widgetsnbextension~=3.5.0->ipywidgets<8,>=7.6.0->ipyleaflet>=0.13.3->geemap) (19.0.2)\n",
      "Requirement already satisfied: python-dateutil>=2.1 in c:\\users\\bihte\\anaconda3\\lib\\site-packages (from jupyter-client->ipykernel>=4.5.1->ipywidgets<8,>=7.6.0->ipyleaflet>=0.13.3->geemap) (2.8.1)\n",
      "Requirement already satisfied: pywin32>=1.0 in c:\\users\\bihte\\anaconda3\\lib\\site-packages (from jupyter-core->nbformat>=4.2.0->ipywidgets<8,>=7.6.0->ipyleaflet>=0.13.3->geemap) (227)\n",
      "Requirement already satisfied: pywinpty>=0.5 in c:\\users\\bihte\\anaconda3\\lib\\site-packages (from terminado>=0.8.3->notebook>=4.4.1->widgetsnbextension~=3.5.0->ipywidgets<8,>=7.6.0->ipyleaflet>=0.13.3->geemap) (0.5.7)\n",
      "Requirement already satisfied: cffi>=1.0.0 in c:\\users\\bihte\\anaconda3\\lib\\site-packages (from argon2-cffi->notebook>=4.4.1->widgetsnbextension~=3.5.0->ipywidgets<8,>=7.6.0->ipyleaflet>=0.13.3->geemap) (1.14.3)\n",
      "Requirement already satisfied: pycparser in c:\\users\\bihte\\anaconda3\\lib\\site-packages (from cffi>=1.0.0->argon2-cffi->notebook>=4.4.1->widgetsnbextension~=3.5.0->ipywidgets<8,>=7.6.0->ipyleaflet>=0.13.3->geemap) (2.20)\n",
      "Requirement already satisfied: ratelim in c:\\users\\bihte\\anaconda3\\lib\\site-packages (from geocoder->geemap) (0.1.6)\n",
      "Requirement already satisfied: google-resumable-media>=0.3.1 in c:\\users\\bihte\\anaconda3\\lib\\site-packages (from google-cloud-storage->earthengine-api>=0.1.230->geemap) (1.2.0)\n",
      "Requirement already satisfied: google-cloud-core<2.0dev,>=1.0.3 in c:\\users\\bihte\\anaconda3\\lib\\site-packages (from google-cloud-storage->earthengine-api>=0.1.230->geemap) (1.5.0)\n",
      "Requirement already satisfied: google-crc32c<2.0dev,>=1.0 in c:\\users\\bihte\\anaconda3\\lib\\site-packages (from google-resumable-media>=0.3.1->google-cloud-storage->earthengine-api>=0.1.230->geemap) (1.1.0)\n",
      "Requirement already satisfied: cycler>=0.10 in c:\\users\\bihte\\anaconda3\\lib\\site-packages (from matplotlib->geemap) (0.10.0)\n",
      "Requirement already satisfied: kiwisolver>=1.0.1 in c:\\users\\bihte\\anaconda3\\lib\\site-packages (from matplotlib->geemap) (1.3.0)\n",
      "Requirement already satisfied: pyparsing!=2.0.4,!=2.1.2,!=2.1.6,>=2.0.3 in c:\\users\\bihte\\anaconda3\\lib\\site-packages (from matplotlib->geemap) (2.4.7)\n",
      "Requirement already satisfied: pandocfilters>=1.4.1 in c:\\users\\bihte\\anaconda3\\lib\\site-packages (from nbconvert->notebook>=4.4.1->widgetsnbextension~=3.5.0->ipywidgets<8,>=7.6.0->ipyleaflet>=0.13.3->geemap) (1.4.3)\n",
      "Requirement already satisfied: entrypoints>=0.2.2 in c:\\users\\bihte\\anaconda3\\lib\\site-packages (from nbconvert->notebook>=4.4.1->widgetsnbextension~=3.5.0->ipywidgets<8,>=7.6.0->ipyleaflet>=0.13.3->geemap) (0.3)\n",
      "Requirement already satisfied: testpath in c:\\users\\bihte\\anaconda3\\lib\\site-packages (from nbconvert->notebook>=4.4.1->widgetsnbextension~=3.5.0->ipywidgets<8,>=7.6.0->ipyleaflet>=0.13.3->geemap) (0.4.4)\n",
      "Requirement already satisfied: defusedxml in c:\\users\\bihte\\anaconda3\\lib\\site-packages (from nbconvert->notebook>=4.4.1->widgetsnbextension~=3.5.0->ipywidgets<8,>=7.6.0->ipyleaflet>=0.13.3->geemap) (0.6.0)\n",
      "Requirement already satisfied: jupyterlab-pygments in c:\\users\\bihte\\anaconda3\\lib\\site-packages (from nbconvert->notebook>=4.4.1->widgetsnbextension~=3.5.0->ipywidgets<8,>=7.6.0->ipyleaflet>=0.13.3->geemap) (0.1.2)\n",
      "Requirement already satisfied: nbclient<0.6.0,>=0.5.0 in c:\\users\\bihte\\anaconda3\\lib\\site-packages (from nbconvert->notebook>=4.4.1->widgetsnbextension~=3.5.0->ipywidgets<8,>=7.6.0->ipyleaflet>=0.13.3->geemap) (0.5.1)\n",
      "Requirement already satisfied: bleach in c:\\users\\bihte\\anaconda3\\lib\\site-packages (from nbconvert->notebook>=4.4.1->widgetsnbextension~=3.5.0->ipywidgets<8,>=7.6.0->ipyleaflet>=0.13.3->geemap) (3.2.1)\n",
      "Requirement already satisfied: mistune<2,>=0.8.1 in c:\\users\\bihte\\anaconda3\\lib\\site-packages (from nbconvert->notebook>=4.4.1->widgetsnbextension~=3.5.0->ipywidgets<8,>=7.6.0->ipyleaflet>=0.13.3->geemap) (0.8.4)\n",
      "Requirement already satisfied: async-generator in c:\\users\\bihte\\anaconda3\\lib\\site-packages (from nbclient<0.6.0,>=0.5.0->nbconvert->notebook>=4.4.1->widgetsnbextension~=3.5.0->ipywidgets<8,>=7.6.0->ipyleaflet>=0.13.3->geemap) (1.10)\n",
      "Requirement already satisfied: nest-asyncio in c:\\users\\bihte\\anaconda3\\lib\\site-packages (from nbclient<0.6.0,>=0.5.0->nbconvert->notebook>=4.4.1->widgetsnbextension~=3.5.0->ipywidgets<8,>=7.6.0->ipyleaflet>=0.13.3->geemap) (1.4.2)\n",
      "Requirement already satisfied: webencodings in c:\\users\\bihte\\anaconda3\\lib\\site-packages (from bleach->nbconvert->notebook>=4.4.1->widgetsnbextension~=3.5.0->ipywidgets<8,>=7.6.0->ipyleaflet>=0.13.3->geemap) (0.5.1)\n",
      "Requirement already satisfied: packaging in c:\\users\\bihte\\anaconda3\\lib\\site-packages (from bleach->nbconvert->notebook>=4.4.1->widgetsnbextension~=3.5.0->ipywidgets<8,>=7.6.0->ipyleaflet>=0.13.3->geemap) (20.4)\n",
      "Requirement already satisfied: jupyter-server<2.0.0,>=0.3.0 in c:\\users\\bihte\\anaconda3\\lib\\site-packages (from voila->geemap) (1.2.1)\n",
      "Requirement already satisfied: anyio>=2.0.2 in c:\\users\\bihte\\anaconda3\\lib\\site-packages (from jupyter-server<2.0.0,>=0.3.0->voila->geemap) (2.0.2)\n",
      "Requirement already satisfied: sniffio>=1.1 in c:\\users\\bihte\\anaconda3\\lib\\site-packages (from anyio>=2.0.2->jupyter-server<2.0.0,>=0.3.0->voila->geemap) (1.2.0)\n",
      "Requirement already satisfied: earthengine-api in c:\\users\\bihte\\anaconda3\\lib\\site-packages (0.1.247)\n",
      "Requirement already satisfied: httplib2<1dev,>=0.9.2 in c:\\users\\bihte\\anaconda3\\lib\\site-packages (from earthengine-api) (0.18.1)\n",
      "Requirement already satisfied: google-api-python-client>=1.12.1 in c:\\users\\bihte\\anaconda3\\lib\\site-packages (from earthengine-api) (1.12.8)\n",
      "Requirement already satisfied: google-auth>=1.4.1 in c:\\users\\bihte\\anaconda3\\lib\\site-packages (from earthengine-api) (1.24.0)\n",
      "Requirement already satisfied: google-auth-httplib2>=0.0.3 in c:\\users\\bihte\\anaconda3\\lib\\site-packages (from earthengine-api) (0.0.4)\n",
      "Requirement already satisfied: httplib2shim in c:\\users\\bihte\\anaconda3\\lib\\site-packages (from earthengine-api) (0.0.3)\n",
      "Requirement already satisfied: six in c:\\users\\bihte\\anaconda3\\lib\\site-packages (from earthengine-api) (1.15.0)\n",
      "Requirement already satisfied: future in c:\\users\\bihte\\anaconda3\\lib\\site-packages (from earthengine-api) (0.18.2)\n",
      "Requirement already satisfied: google-cloud-storage in c:\\users\\bihte\\anaconda3\\lib\\site-packages (from earthengine-api) (1.19.0)\n",
      "Requirement already satisfied: uritemplate<4dev,>=3.0.0 in c:\\users\\bihte\\anaconda3\\lib\\site-packages (from google-api-python-client>=1.12.1->earthengine-api) (3.0.1)\n",
      "Requirement already satisfied: google-api-core<2dev,>=1.21.0 in c:\\users\\bihte\\anaconda3\\lib\\site-packages (from google-api-python-client>=1.12.1->earthengine-api) (1.22.2)\n",
      "Requirement already satisfied: pytz in c:\\users\\bihte\\anaconda3\\lib\\site-packages (from google-api-core<2dev,>=1.21.0->google-api-python-client>=1.12.1->earthengine-api) (2020.1)\n",
      "Requirement already satisfied: protobuf>=3.12.0 in c:\\users\\bihte\\anaconda3\\lib\\site-packages (from google-api-core<2dev,>=1.21.0->google-api-python-client>=1.12.1->earthengine-api) (3.14.0)\n",
      "Requirement already satisfied: googleapis-common-protos<2.0dev,>=1.6.0 in c:\\users\\bihte\\anaconda3\\lib\\site-packages (from google-api-core<2dev,>=1.21.0->google-api-python-client>=1.12.1->earthengine-api) (1.52.0)\n",
      "Requirement already satisfied: requests<3.0.0dev,>=2.18.0 in c:\\users\\bihte\\anaconda3\\lib\\site-packages (from google-api-core<2dev,>=1.21.0->google-api-python-client>=1.12.1->earthengine-api) (2.24.0)\n",
      "Requirement already satisfied: setuptools>=34.0.0 in c:\\users\\bihte\\anaconda3\\lib\\site-packages (from google-api-core<2dev,>=1.21.0->google-api-python-client>=1.12.1->earthengine-api) (50.3.1.post20201107)\n",
      "Requirement already satisfied: cachetools<5.0,>=2.0.0 in c:\\users\\bihte\\anaconda3\\lib\\site-packages (from google-auth>=1.4.1->earthengine-api) (4.1.1)\n",
      "Requirement already satisfied: pyasn1-modules>=0.2.1 in c:\\users\\bihte\\anaconda3\\lib\\site-packages (from google-auth>=1.4.1->earthengine-api) (0.2.7)\n",
      "Requirement already satisfied: rsa<5,>=3.1.4 in c:\\users\\bihte\\anaconda3\\lib\\site-packages (from google-auth>=1.4.1->earthengine-api) (4.7)\n",
      "Requirement already satisfied: pyasn1<0.5.0,>=0.4.6 in c:\\users\\bihte\\anaconda3\\lib\\site-packages (from pyasn1-modules>=0.2.1->google-auth>=1.4.1->earthengine-api) (0.4.8)\n",
      "Requirement already satisfied: certifi>=2017.4.17 in c:\\users\\bihte\\anaconda3\\lib\\site-packages (from requests<3.0.0dev,>=2.18.0->google-api-core<2dev,>=1.21.0->google-api-python-client>=1.12.1->earthengine-api) (2020.12.5)\n",
      "Requirement already satisfied: chardet<4,>=3.0.2 in c:\\users\\bihte\\anaconda3\\lib\\site-packages (from requests<3.0.0dev,>=2.18.0->google-api-core<2dev,>=1.21.0->google-api-python-client>=1.12.1->earthengine-api) (3.0.4)\n",
      "Requirement already satisfied: urllib3!=1.25.0,!=1.25.1,<1.26,>=1.21.1 in c:\\users\\bihte\\anaconda3\\lib\\site-packages (from requests<3.0.0dev,>=2.18.0->google-api-core<2dev,>=1.21.0->google-api-python-client>=1.12.1->earthengine-api) (1.25.11)\n",
      "Requirement already satisfied: idna<3,>=2.5 in c:\\users\\bihte\\anaconda3\\lib\\site-packages (from requests<3.0.0dev,>=2.18.0->google-api-core<2dev,>=1.21.0->google-api-python-client>=1.12.1->earthengine-api) (2.10)\n",
      "Requirement already satisfied: google-cloud-core<2.0dev,>=1.0.3 in c:\\users\\bihte\\anaconda3\\lib\\site-packages (from google-cloud-storage->earthengine-api) (1.5.0)\n",
      "Requirement already satisfied: google-resumable-media>=0.3.1 in c:\\users\\bihte\\anaconda3\\lib\\site-packages (from google-cloud-storage->earthengine-api) (1.2.0)\n",
      "Requirement already satisfied: google-crc32c<2.0dev,>=1.0 in c:\\users\\bihte\\anaconda3\\lib\\site-packages (from google-resumable-media>=0.3.1->google-cloud-storage->earthengine-api) (1.1.0)\n",
      "Requirement already satisfied: cffi>=1.0.0 in c:\\users\\bihte\\anaconda3\\lib\\site-packages (from google-crc32c<2.0dev,>=1.0->google-resumable-media>=0.3.1->google-cloud-storage->earthengine-api) (1.14.3)\n",
      "Requirement already satisfied: pycparser in c:\\users\\bihte\\anaconda3\\lib\\site-packages (from cffi>=1.0.0->google-crc32c<2.0dev,>=1.0->google-resumable-media>=0.3.1->google-cloud-storage->earthengine-api) (2.20)\n"
     ]
    },
    {
     "name": "stderr",
     "output_type": "stream",
     "text": [
      "ERROR: Could not find a version that satisfies the requirement json\n",
      "ERROR: No matching distribution found for json\n",
      "ERROR: Could not find a version that satisfies the requirement os\n",
      "ERROR: No matching distribution found for os\n"
     ]
    },
    {
     "name": "stdout",
     "output_type": "stream",
     "text": [
      "Requirement already satisfied: requests in c:\\users\\bihte\\anaconda3\\lib\\site-packages (2.24.0)\n",
      "Requirement already satisfied: idna<3,>=2.5 in c:\\users\\bihte\\anaconda3\\lib\\site-packages (from requests) (2.10)\n",
      "Requirement already satisfied: certifi>=2017.4.17 in c:\\users\\bihte\\anaconda3\\lib\\site-packages (from requests) (2020.12.5)\n",
      "Requirement already satisfied: urllib3!=1.25.0,!=1.25.1,<1.26,>=1.21.1 in c:\\users\\bihte\\anaconda3\\lib\\site-packages (from requests) (1.25.11)\n",
      "Requirement already satisfied: chardet<4,>=3.0.2 in c:\\users\\bihte\\anaconda3\\lib\\site-packages (from requests) (3.0.4)\n"
     ]
    }
   ],
   "source": [
    "!pip install geemap\n",
    "!pip install earthengine-api --upgrade\n",
    "!pip install json\n",
    "!pip install os\n",
    "!pip install requests\n",
    "\n",
    "import geemap\n",
    "import ee\n",
    "import json\n",
    "import os\n",
    "import requests\n",
    "\n",
    "from geemap import geojson_to_ee, ee_to_geojson\n",
    "from ipyleaflet import GeoJSON, Marker, MarkerCluster"
   ]
  },
  {
   "cell_type": "code",
   "execution_count": 3,
   "metadata": {},
   "outputs": [
    {
     "data": {
      "application/vnd.jupyter.widget-view+json": {
       "model_id": "bcaa4832a7b94075bb189f16e5093152",
       "version_major": 2,
       "version_minor": 0
      },
      "text/plain": [
       "Map(center=[41.1044, 29.0281], controls=(WidgetControl(options=['position', 'transparent_bg'], widget=HBox(chi…"
      ]
     },
     "metadata": {},
     "output_type": "display_data"
    }
   ],
   "source": [
    "m01 = geemap.Map(center=[41.1044, 29.0281], zoom=15)\n",
    "m01.add_basemap(\"TERRAIN\")\n",
    "m01"
   ]
  },
  {
   "cell_type": "code",
   "execution_count": 4,
   "metadata": {},
   "outputs": [
    {
     "data": {
      "application/vnd.jupyter.widget-view+json": {
       "model_id": "17a2d41d9be74e17bbbb7bb89fce09e4",
       "version_major": 2,
       "version_minor": 0
      },
      "text/plain": [
       "Map(center=[41.1044, 29.0281], controls=(WidgetControl(options=['position', 'transparent_bg'], widget=HBox(chi…"
      ]
     },
     "metadata": {},
     "output_type": "display_data"
    }
   ],
   "source": [
    "m_all = geemap.Map(center=[41.1044, 29.0281], zoom=15)\n",
    "m_all.basemap_demo()\n",
    "m_all"
   ]
  },
  {
   "cell_type": "code",
   "execution_count": 5,
   "metadata": {},
   "outputs": [
    {
     "data": {
      "application/vnd.jupyter.widget-view+json": {
       "model_id": "65a3ffdd79924a96b89847297b449c6b",
       "version_major": 2,
       "version_minor": 0
      },
      "text/plain": [
       "Map(center=[41.1044, 29.0281], controls=(WidgetControl(options=['position', 'transparent_bg'], widget=HBox(chi…"
      ]
     },
     "metadata": {},
     "output_type": "display_data"
    }
   ],
   "source": [
    "#GEE3 inspector tool\n",
    "m_03 = geemap.Map(center=[41.1044, 29.0281], zoom=15)\n",
    "dem = ee.Image('USGS/SRTMGL1_003')\n",
    "landcover = ee.Image(\"ESA/GLOBCOVER_L4_200901_200912_V2_3\").select('landcover')\n",
    "landsat7 = ee.Image('LE7_TOA_5YEAR/1999_2003').select(['B1', 'B2', 'B3', 'B4', 'B5', 'B7'])\n",
    "\n",
    "vis_params = {\n",
    "  'min': 0,\n",
    "  'max': 4000,\n",
    "  'palette': ['006633', 'E5FFCC', '662A00', 'D8D8D8', 'F5F5F5']}\n",
    "\n",
    "# Add Earth Eninge layers to Map\n",
    "m_03.addLayer(dem, vis_params, 'SRTM DEM', True, 0.5)\n",
    "m_03.addLayer(landcover, {}, 'Land cover')\n",
    "m_03.addLayer(landsat7, {'bands': ['B4', 'B3', 'B2'], 'min': 20, 'max': 200}, 'Landsat 7')\n",
    "m_03"
   ]
  },
  {
   "cell_type": "code",
   "execution_count": 28,
   "metadata": {},
   "outputs": [
    {
     "name": "stdout",
     "output_type": "stream",
     "text": [
      "dict_keys(['ROADMAP', 'SATELLITE', 'TERRAIN', 'HYBRID', 'ESRI', 'Esri Ocean', 'Esri Satellite', 'Esri Standard', 'Esri Terrain', 'Esri Transportation', 'Esri Topo World', 'Esri National Geographic', 'Esri Shaded Relief', 'Esri Physical Map', 'FWS NWI Wetlands', 'FWS NWI Wetlands Raster', 'Google Maps', 'Google Satellite', 'Google Terrain', 'Google Satellite Hybrid', 'NLCD 2016 CONUS Land Cover', 'NLCD 2013 CONUS Land Cover', 'NLCD 2011 CONUS Land Cover', 'NLCD 2008 CONUS Land Cover', 'NLCD 2006 CONUS Land Cover', 'NLCD 2004 CONUS Land Cover', 'NLCD 2001 CONUS Land Cover', 'USGS NAIP Imagery', 'USGS Hydrography', 'USGS 3DEP Elevation', 'OpenStreetMap.Mapnik', 'OpenStreetMap.BlackAndWhite', 'OpenStreetMap.DE', 'OpenStreetMap.France', 'OpenStreetMap.HOT', 'Gaode.Normal', 'Gaode.Satellite', 'OpenTopoMap', 'Hydda.Full', 'Hydda.Base', 'Esri.WorldStreetMap', 'Esri.DeLorme', 'Esri.WorldTopoMap', 'Esri.WorldImagery', 'Esri.NatGeoWorldMap', 'HikeBike.HikeBike', 'MtbMap', 'CartoDB.Positron', 'CartoDB.DarkMatter', 'NASAGIBS.ModisTerraTrueColorCR', 'NASAGIBS.ModisTerraBands367CR', 'NASAGIBS.ModisTerraBands721CR', 'NASAGIBS.ModisAquaTrueColorCR', 'NASAGIBS.ModisAquaBands721CR', 'NASAGIBS.ViirsTrueColorCR', 'NASAGIBS.ViirsEarthAtNight2012', 'NASAGIBS.BlueMarble3413', 'NASAGIBS.BlueMarble3031', 'NASAGIBS.BlueMarble', 'Strava.All', 'Strava.Ride', 'Strava.Run', 'Strava.Water', 'Strava.Winter', 'Stamen.Terrain', 'Stamen.Toner', 'Stamen.Watercolor'])\n"
     ]
    }
   ],
   "source": [
    "basemaps = geemap.ee_basemaps.keys()\n",
    "print(basemaps)"
   ]
  },
  {
   "cell_type": "code",
   "execution_count": 33,
   "metadata": {
    "scrolled": true
   },
   "outputs": [
    {
     "data": {
      "application/vnd.jupyter.widget-view+json": {
       "model_id": "c8ab3a54f5244a4182d198a57ba4c277",
       "version_major": 2,
       "version_minor": 0
      },
      "text/plain": [
       "Map(center=[41.1044, 29.0281], controls=(WidgetControl(options=['position', 'transparent_bg'], widget=HBox(chi…"
      ]
     },
     "metadata": {},
     "output_type": "display_data"
    }
   ],
   "source": [
    "m_04 = geemap.Map(center=[41.1044, 29.0281], zoom=15)\n",
    "m_04.split_map(left_layer='HYBRID', right_layer='TERRAIN')\n",
    "m_04"
   ]
  },
  {
   "cell_type": "code",
   "execution_count": 34,
   "metadata": {},
   "outputs": [
    {
     "data": {
      "application/vnd.jupyter.widget-view+json": {
       "model_id": "6b75fdd1c29a4218a87028149f535af8",
       "version_major": 2,
       "version_minor": 0
      },
      "text/plain": [
       "Map(center=[40, -100], controls=(WidgetControl(options=['position', 'transparent_bg'], widget=HBox(children=(T…"
      ]
     },
     "metadata": {},
     "output_type": "display_data"
    }
   ],
   "source": [
    "#find Turkey's land Cover data\n",
    "m_041 = geemap.Map()\n",
    "m_041.split_map(left_layer='NLCD 2016 CONUS Land Cover', right_layer='NLCD 2001 CONUS Land Cover')\n",
    "m_041"
   ]
  },
  {
   "cell_type": "code",
   "execution_count": 37,
   "metadata": {},
   "outputs": [
    {
     "name": "stdout",
     "output_type": "stream",
     "text": [
      "['USGS/NLCD/NLCD1992', 'USGS/NLCD/NLCD2001', 'USGS/NLCD/NLCD2001_AK', 'USGS/NLCD/NLCD2001_HI', 'USGS/NLCD/NLCD2001_PR', 'USGS/NLCD/NLCD2004', 'USGS/NLCD/NLCD2006', 'USGS/NLCD/NLCD2008', 'USGS/NLCD/NLCD2011', 'USGS/NLCD/NLCD2011_AK', 'USGS/NLCD/NLCD2011_HI', 'USGS/NLCD/NLCD2011_PR', 'USGS/NLCD/NLCD2013', 'USGS/NLCD/NLCD2016']\n"
     ]
    }
   ],
   "source": [
    "#find Turkey's land Cover data\n",
    "collection = ee.ImageCollection(\"USGS/NLCD\")\n",
    "print(collection.aggregate_array('system:id').getInfo())"
   ]
  },
  {
   "cell_type": "code",
   "execution_count": 39,
   "metadata": {},
   "outputs": [
    {
     "data": {
      "application/vnd.jupyter.widget-view+json": {
       "model_id": "ad0131e5cc8a47709bf5e2a01df3700b",
       "version_major": 2,
       "version_minor": 0
      },
      "text/plain": [
       "Map(center=[40, -100], controls=(WidgetControl(options=['position', 'transparent_bg'], widget=HBox(children=(T…"
      ]
     },
     "metadata": {},
     "output_type": "display_data"
    }
   ],
   "source": [
    "#find Turkey's land Cover data\n",
    "nlcd_2001 = ee.Image('USGS/NLCD/NLCD2001').select('landcover')\n",
    "nlcd_2016 = ee.Image('USGS/NLCD/NLCD2016').select('landcover')\n",
    "\n",
    "left_layer = geemap.ee_tile_layer(nlcd_2001, {}, 'NLCD 2001')\n",
    "right_layer = geemap.ee_tile_layer(nlcd_2016, {}, 'NLCD 2016')\n",
    "\n",
    "m_042 = geemap.Map()\n",
    "m_042.split_map(left_layer, right_layer)\n",
    "m_042"
   ]
  },
  {
   "cell_type": "code",
   "execution_count": 42,
   "metadata": {},
   "outputs": [
    {
     "data": {
      "application/vnd.jupyter.widget-view+json": {
       "model_id": "97f652a49aec4c42beaf7772a2cd14f5",
       "version_major": 2,
       "version_minor": 0
      },
      "text/plain": [
       "Map(center=[40, -100], controls=(WidgetControl(options=['position', 'transparent_bg'], widget=HBox(children=(T…"
      ]
     },
     "metadata": {},
     "output_type": "display_data"
    }
   ],
   "source": [
    "#find Turkey's land Cover and boundry data\n",
    "m_05 = geemap.Map()\n",
    "image = ee.Image('USGS/SRTMGL1_003')\n",
    "\n",
    "# Set visualization parameters.\n",
    "vis_params = {\n",
    "  'min': 0,\n",
    "  'max': 4000,\n",
    "  'palette': ['006633', 'E5FFCC', '662A00', 'D8D8D8', 'F5F5F5']}\n",
    "\n",
    "# Add Earth Engine DEM to map\n",
    "m_05.addLayer(image, vis_params, 'SRTM DEM')\n",
    "\n",
    "states = ee.FeatureCollection(\"TIGER/2018/States\")\n",
    "m_05.addLayer(states, {}, 'US States')\n",
    "m_05"
   ]
  },
  {
   "cell_type": "code",
   "execution_count": 45,
   "metadata": {},
   "outputs": [
    {
     "data": {
      "application/vnd.jupyter.widget-view+json": {
       "model_id": "97f652a49aec4c42beaf7772a2cd14f5",
       "version_major": 2,
       "version_minor": 0
      },
      "text/plain": [
       "Map(bottom=1079.0, center=[39.50404070558415, -66.09375000000001], controls=(WidgetControl(options=['position'…"
      ]
     },
     "metadata": {},
     "output_type": "display_data"
    }
   ],
   "source": [
    "m_051 = m_05\n",
    "\n",
    "roi = ee.FeatureCollection(m_05.draw_features)\n",
    "selected_states = states.filterBounds(roi)\n",
    "m_051.addLayer(selected_states, {}, \"Selected states\")\n",
    "\n",
    "clipped_image = image.clip(selected_states)\n",
    "m_051.addLayer(clipped_image, vis_params, 'Clipped image')\n",
    "m_051"
   ]
  },
  {
   "cell_type": "code",
   "execution_count": 65,
   "metadata": {},
   "outputs": [
    {
     "data": {
      "application/vnd.jupyter.widget-view+json": {
       "model_id": "15b9915ba9504171a58a01229e8db8bb",
       "version_major": 2,
       "version_minor": 0
      },
      "text/plain": [
       "Map(center=[40, -100], controls=(WidgetControl(options=['position', 'transparent_bg'], widget=HBox(children=(T…"
      ]
     },
     "metadata": {},
     "output_type": "display_data"
    }
   ],
   "source": [
    "m_06 = geemap.Map()\n",
    "\n",
    "path_06 = r\"D:\\Desktop\\rs\\data\\us-cities.json\"\n",
    "file_path_06 = os.path.abspath(path_06)\n",
    "\n",
    "with open(file_path_06) as f:\n",
    "    json_data_06 = json.load(f)\n",
    "\n",
    "maker_cluster_06 = MarkerCluster(\n",
    "markers_06=[Marker(location=feature['geometry']['coordinates'][::-1]) for feature in json_data_06['features']],\n",
    "name = 'Markers')\n",
    "\n",
    "m_06.add_layer(maker_cluster_06)\n",
    "ee_fc = geojson_to_ee(json_data_06)\n",
    "\n",
    "m_06.addLayer(ee_fc, {}, \"US Cities EE\")\n",
    "\n",
    "m_06"
   ]
  },
  {
   "cell_type": "code",
   "execution_count": 69,
   "metadata": {
    "scrolled": true
   },
   "outputs": [],
   "source": [
    "m_071 = geemap.Map()\n",
    "m_072 = geemap.Map()\n",
    "m_073 = geemap.Map()\n",
    "\n",
    "path_07 = r\"D:\\Desktop\\rs\\data\\us-states.json\"\n",
    "file_path_07 = os.path.abspath(path_07)\n",
    "\n",
    "with open(file_path_07) as f:\n",
    "    json_data_07 = json.load(f)\n",
    "\n",
    "json_layer_07 = GeoJSON(data=json_data_07, name='US States JSON', hover_style={'fillColor': 'red' , 'fillOpacity': 0.5})\n",
    "m_071.add_layer(json_layer_07)\n",
    "\n",
    "m_071"
   ]
  },
  {
   "cell_type": "code",
   "execution_count": 71,
   "metadata": {},
   "outputs": [
    {
     "data": {
      "application/vnd.jupyter.widget-view+json": {
       "model_id": "aaa6f9aedd404450af67a25b747b8353",
       "version_major": 2,
       "version_minor": 0
      },
      "text/plain": [
       "Map(center=[40, -100], controls=(WidgetControl(options=['position', 'transparent_bg'], widget=HBox(children=(T…"
      ]
     },
     "metadata": {},
     "output_type": "display_data"
    }
   ],
   "source": [
    "ee_data_07 = geojson_to_ee(json_data_07)\n",
    "m_072.addLayer(ee_data_07, {}, \"US States EE\")\n",
    "\n",
    "m_072"
   ]
  },
  {
   "cell_type": "code",
   "execution_count": 72,
   "metadata": {},
   "outputs": [
    {
     "data": {
      "application/vnd.jupyter.widget-view+json": {
       "model_id": "70ad4e9b341d49999c5b059f576aa56f",
       "version_major": 2,
       "version_minor": 0
      },
      "text/plain": [
       "Map(center=[40, -100], controls=(WidgetControl(options=['position', 'transparent_bg'], widget=HBox(children=(T…"
      ]
     },
     "metadata": {},
     "output_type": "display_data"
    }
   ],
   "source": [
    "json_data_071 = ee_to_geojson(ee_data_07)\n",
    "json_layer_071 = GeoJSON(data=json_data_071, name='US States EE JSON', hover_style={'fillColor': 'red' , 'fillOpacity': 0.5})\n",
    "m_073.add_layer(json_layer_071)\n",
    "\n",
    "m_073"
   ]
  },
  {
   "cell_type": "code",
   "execution_count": 73,
   "metadata": {},
   "outputs": [
    {
     "data": {
      "application/vnd.jupyter.widget-view+json": {
       "model_id": "aa4d6dca65704e04a57730f835ed5310",
       "version_major": 2,
       "version_minor": 0
      },
      "text/plain": [
       "Map(center=[40, -100], controls=(WidgetControl(options=['position', 'transparent_bg'], widget=HBox(children=(T…"
      ]
     },
     "metadata": {},
     "output_type": "display_data"
    }
   ],
   "source": [
    "m_074 = geemap.Map()\n",
    "\n",
    "path_071 = r\"D:\\Desktop\\rs\\data\\countries.json\"\n",
    "file_path_071 = os.path.abspath(path_07)\n",
    "\n",
    "with open(file_path) as f:\n",
    "    json_data_072 = json.load(f)\n",
    "    \n",
    "json_layer_072 = GeoJSON(data=json_data_072, name='Counties', hover_style={'fillColor': 'red' , 'fillOpacity': 0.5})\n",
    "m_074.add_layer(json_layer_072)\n",
    "\n",
    "m_074"
   ]
  }
 ],
 "metadata": {
  "kernelspec": {
   "display_name": "Python 3",
   "language": "python",
   "name": "python3"
  },
  "language_info": {
   "codemirror_mode": {
    "name": "ipython",
    "version": 3
   },
   "file_extension": ".py",
   "mimetype": "text/x-python",
   "name": "python",
   "nbconvert_exporter": "python",
   "pygments_lexer": "ipython3",
   "version": "3.8.5"
  }
 },
 "nbformat": 4,
 "nbformat_minor": 4
}
